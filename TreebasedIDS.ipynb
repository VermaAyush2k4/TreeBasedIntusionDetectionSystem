{
  "cells": [
    {
      "attachments": {},
      "cell_type": "markdown",
      "metadata": {
        "id": "hlKGYEDHhBQ1"
      },
      "source": [
        "# Tree-Based Intelligent Intrusion Detection System in Internet of Vehicles\n",
        "This is the code for the paper entitled \"[**Tree-Based Intelligent Intrusion Detection System in Internet of Vehicles**](https://arxiv.org/pdf/1910.08635.pdf)\" published in IEEE GlobeCom 2019.  \n",
        "Authors: Li Yang (liyanghart@gmail.com), Abdallah Moubayed, Ismail Hamieh, and Abdallah Shami  \n",
        "Organization: The Optimized Computing and Communications (OC2) Lab, ECE Department, Western University\n",
        "\n",
        "If you find this repository useful in your research, please cite:  \n",
        "L. Yang, A. Moubayed, I. Hamieh and A. Shami, \"Tree-Based Intelligent Intrusion Detection System in Internet of Vehicles,\" 2019 IEEE Global Communications Conference (GLOBECOM), 2019, pp. 1-6, doi: 10.1109/GLOBECOM38437.2019.9013892.  "
      ]
    },
    {
      "cell_type": "code",
      "execution_count": 1,
      "metadata": {
        "id": "s_hn9p4vhDM9"
      },
      "outputs": [],
      "source": [
        "import warnings\n",
        "warnings.filterwarnings(\"ignore\")"
      ]
    },
    {
      "cell_type": "code",
      "execution_count": 208,
      "metadata": {
        "id": "eCobz_f-g6cy"
      },
      "outputs": [],
      "source": [
        "import numpy as np\n",
        "import pandas as pd\n",
        "import seaborn as sns\n",
        "import matplotlib.pyplot as plt\n",
        "from sklearn.preprocessing import LabelEncoder\n",
        "from sklearn.model_selection import train_test_split\n",
        "from sklearn.metrics import classification_report,confusion_matrix,accuracy_score,precision_recall_fscore_support\n",
        "from sklearn.metrics import f1_score\n",
        "from sklearn.ensemble import RandomForestClassifier,ExtraTreesClassifier\n",
        "from sklearn.tree import DecisionTreeClassifier\n",
        "import xgboost as xgb\n",
        "from xgboost import plot_importance"
      ]
    },
    {
      "attachments": {},
      "cell_type": "markdown",
      "metadata": {
        "id": "6ifJzHqxhL3b"
      },
      "source": [
        "## Read the sampled CICIDS2017 dataset\n",
        "The CICIDS2017 dataset is publicly available at: https://www.unb.ca/cic/datasets/ids-2017.html  \n",
        "Due to the large size of this dataset, the sampled subsets of CICIDS2017 is used. The subsets are in the \"data\" folder.  \n",
        "If you want to use this code on other datasets (e.g., CAN-intrusion dataset), just change the dataset name and follow the same steps. The models in this code are generic models that can be used in any intrusion detection/network traffic datasets."
      ]
    },
    {
      "attachments": {},
      "cell_type": "markdown",
      "metadata": {
        "id": "HDyLsTzUhns-"
      },
      "source": [
        "### Preprocessing (normalization and padding values)"
      ]
    },
    {
      "cell_type": "code",
      "execution_count": 209,
      "metadata": {
        "id": "Vpe900cQlt21"
      },
      "outputs": [],
      "source": [
        "df1 = pd.read_csv('/content/CICIDS2017_sample (1).csv')"
      ]
    },
    {
      "cell_type": "code",
      "execution_count": 210,
      "metadata": {
        "id": "Odsurct_hlSu"
      },
      "outputs": [],
      "source": [
        "df = pd.read_csv('/content/CICIDS2017_sample (1).csv')"
      ]
    },
    {
      "cell_type": "code",
      "execution_count": 211,
      "metadata": {
        "colab": {
          "base_uri": "https://localhost:8080/",
          "height": 495
        },
        "id": "Jlccv7_gmNPT",
        "outputId": "a3db4498-d8c5-4327-b953-1538fbef5973"
      },
      "outputs": [
        {
          "data": {
            "application/vnd.google.colaboratory.intrinsic+json": {
              "type": "dataframe",
              "variable_name": "df"
            },
            "text/html": [
              "\n",
              "  <div id=\"df-8f205cc0-9a05-436a-8515-231be41a7f24\" class=\"colab-df-container\">\n",
              "    <div>\n",
              "<style scoped>\n",
              "    .dataframe tbody tr th:only-of-type {\n",
              "        vertical-align: middle;\n",
              "    }\n",
              "\n",
              "    .dataframe tbody tr th {\n",
              "        vertical-align: top;\n",
              "    }\n",
              "\n",
              "    .dataframe thead th {\n",
              "        text-align: right;\n",
              "    }\n",
              "</style>\n",
              "<table border=\"1\" class=\"dataframe\">\n",
              "  <thead>\n",
              "    <tr style=\"text-align: right;\">\n",
              "      <th></th>\n",
              "      <th>Flow Duration</th>\n",
              "      <th>Total Fwd Packets</th>\n",
              "      <th>Total Backward Packets</th>\n",
              "      <th>Total Length of Fwd Packets</th>\n",
              "      <th>Total Length of Bwd Packets</th>\n",
              "      <th>Fwd Packet Length Max</th>\n",
              "      <th>Fwd Packet Length Min</th>\n",
              "      <th>Fwd Packet Length Mean</th>\n",
              "      <th>Fwd Packet Length Std</th>\n",
              "      <th>Bwd Packet Length Max</th>\n",
              "      <th>...</th>\n",
              "      <th>min_seg_size_forward</th>\n",
              "      <th>Active Mean</th>\n",
              "      <th>Active Std</th>\n",
              "      <th>Active Max</th>\n",
              "      <th>Active Min</th>\n",
              "      <th>Idle Mean</th>\n",
              "      <th>Idle Std</th>\n",
              "      <th>Idle Max</th>\n",
              "      <th>Idle Min</th>\n",
              "      <th>Label</th>\n",
              "    </tr>\n",
              "  </thead>\n",
              "  <tbody>\n",
              "    <tr>\n",
              "      <th>0</th>\n",
              "      <td>4</td>\n",
              "      <td>2</td>\n",
              "      <td>0</td>\n",
              "      <td>37</td>\n",
              "      <td>0</td>\n",
              "      <td>31</td>\n",
              "      <td>6</td>\n",
              "      <td>18.500000</td>\n",
              "      <td>17.677670</td>\n",
              "      <td>0</td>\n",
              "      <td>...</td>\n",
              "      <td>20</td>\n",
              "      <td>0.0</td>\n",
              "      <td>0.0</td>\n",
              "      <td>0</td>\n",
              "      <td>0</td>\n",
              "      <td>0.0</td>\n",
              "      <td>0.0</td>\n",
              "      <td>0</td>\n",
              "      <td>0</td>\n",
              "      <td>BENIGN</td>\n",
              "    </tr>\n",
              "    <tr>\n",
              "      <th>1</th>\n",
              "      <td>142377</td>\n",
              "      <td>46</td>\n",
              "      <td>62</td>\n",
              "      <td>1325</td>\n",
              "      <td>105855</td>\n",
              "      <td>570</td>\n",
              "      <td>0</td>\n",
              "      <td>28.804348</td>\n",
              "      <td>111.407285</td>\n",
              "      <td>4344</td>\n",
              "      <td>...</td>\n",
              "      <td>20</td>\n",
              "      <td>0.0</td>\n",
              "      <td>0.0</td>\n",
              "      <td>0</td>\n",
              "      <td>0</td>\n",
              "      <td>0.0</td>\n",
              "      <td>0.0</td>\n",
              "      <td>0</td>\n",
              "      <td>0</td>\n",
              "      <td>BENIGN</td>\n",
              "    </tr>\n",
              "    <tr>\n",
              "      <th>2</th>\n",
              "      <td>118873</td>\n",
              "      <td>23</td>\n",
              "      <td>28</td>\n",
              "      <td>1169</td>\n",
              "      <td>45025</td>\n",
              "      <td>570</td>\n",
              "      <td>0</td>\n",
              "      <td>50.826087</td>\n",
              "      <td>156.137367</td>\n",
              "      <td>2896</td>\n",
              "      <td>...</td>\n",
              "      <td>32</td>\n",
              "      <td>0.0</td>\n",
              "      <td>0.0</td>\n",
              "      <td>0</td>\n",
              "      <td>0</td>\n",
              "      <td>0.0</td>\n",
              "      <td>0.0</td>\n",
              "      <td>0</td>\n",
              "      <td>0</td>\n",
              "      <td>BENIGN</td>\n",
              "    </tr>\n",
              "    <tr>\n",
              "      <th>3</th>\n",
              "      <td>143577</td>\n",
              "      <td>43</td>\n",
              "      <td>55</td>\n",
              "      <td>1301</td>\n",
              "      <td>107289</td>\n",
              "      <td>570</td>\n",
              "      <td>0</td>\n",
              "      <td>30.255814</td>\n",
              "      <td>115.178969</td>\n",
              "      <td>4344</td>\n",
              "      <td>...</td>\n",
              "      <td>20</td>\n",
              "      <td>0.0</td>\n",
              "      <td>0.0</td>\n",
              "      <td>0</td>\n",
              "      <td>0</td>\n",
              "      <td>0.0</td>\n",
              "      <td>0.0</td>\n",
              "      <td>0</td>\n",
              "      <td>0</td>\n",
              "      <td>BENIGN</td>\n",
              "    </tr>\n",
              "    <tr>\n",
              "      <th>4</th>\n",
              "      <td>143745</td>\n",
              "      <td>49</td>\n",
              "      <td>59</td>\n",
              "      <td>1331</td>\n",
              "      <td>110185</td>\n",
              "      <td>570</td>\n",
              "      <td>0</td>\n",
              "      <td>27.163265</td>\n",
              "      <td>108.067176</td>\n",
              "      <td>4344</td>\n",
              "      <td>...</td>\n",
              "      <td>20</td>\n",
              "      <td>0.0</td>\n",
              "      <td>0.0</td>\n",
              "      <td>0</td>\n",
              "      <td>0</td>\n",
              "      <td>0.0</td>\n",
              "      <td>0.0</td>\n",
              "      <td>0</td>\n",
              "      <td>0</td>\n",
              "      <td>BENIGN</td>\n",
              "    </tr>\n",
              "    <tr>\n",
              "      <th>...</th>\n",
              "      <td>...</td>\n",
              "      <td>...</td>\n",
              "      <td>...</td>\n",
              "      <td>...</td>\n",
              "      <td>...</td>\n",
              "      <td>...</td>\n",
              "      <td>...</td>\n",
              "      <td>...</td>\n",
              "      <td>...</td>\n",
              "      <td>...</td>\n",
              "      <td>...</td>\n",
              "      <td>...</td>\n",
              "      <td>...</td>\n",
              "      <td>...</td>\n",
              "      <td>...</td>\n",
              "      <td>...</td>\n",
              "      <td>...</td>\n",
              "      <td>...</td>\n",
              "      <td>...</td>\n",
              "      <td>...</td>\n",
              "      <td>...</td>\n",
              "    </tr>\n",
              "    <tr>\n",
              "      <th>56656</th>\n",
              "      <td>234</td>\n",
              "      <td>2</td>\n",
              "      <td>2</td>\n",
              "      <td>64</td>\n",
              "      <td>232</td>\n",
              "      <td>32</td>\n",
              "      <td>32</td>\n",
              "      <td>32.000000</td>\n",
              "      <td>0.000000</td>\n",
              "      <td>116</td>\n",
              "      <td>...</td>\n",
              "      <td>32</td>\n",
              "      <td>0.0</td>\n",
              "      <td>0.0</td>\n",
              "      <td>0</td>\n",
              "      <td>0</td>\n",
              "      <td>0.0</td>\n",
              "      <td>0.0</td>\n",
              "      <td>0</td>\n",
              "      <td>0</td>\n",
              "      <td>BENIGN</td>\n",
              "    </tr>\n",
              "    <tr>\n",
              "      <th>56657</th>\n",
              "      <td>133288</td>\n",
              "      <td>2</td>\n",
              "      <td>2</td>\n",
              "      <td>94</td>\n",
              "      <td>482</td>\n",
              "      <td>47</td>\n",
              "      <td>47</td>\n",
              "      <td>47.000000</td>\n",
              "      <td>0.000000</td>\n",
              "      <td>241</td>\n",
              "      <td>...</td>\n",
              "      <td>32</td>\n",
              "      <td>0.0</td>\n",
              "      <td>0.0</td>\n",
              "      <td>0</td>\n",
              "      <td>0</td>\n",
              "      <td>0.0</td>\n",
              "      <td>0.0</td>\n",
              "      <td>0</td>\n",
              "      <td>0</td>\n",
              "      <td>BENIGN</td>\n",
              "    </tr>\n",
              "    <tr>\n",
              "      <th>56658</th>\n",
              "      <td>11507694</td>\n",
              "      <td>5</td>\n",
              "      <td>4</td>\n",
              "      <td>450</td>\n",
              "      <td>3525</td>\n",
              "      <td>450</td>\n",
              "      <td>0</td>\n",
              "      <td>90.000000</td>\n",
              "      <td>201.246118</td>\n",
              "      <td>3525</td>\n",
              "      <td>...</td>\n",
              "      <td>32</td>\n",
              "      <td>893.0</td>\n",
              "      <td>0.0</td>\n",
              "      <td>893</td>\n",
              "      <td>893</td>\n",
              "      <td>6503640.0</td>\n",
              "      <td>0.0</td>\n",
              "      <td>6503640</td>\n",
              "      <td>6503640</td>\n",
              "      <td>DoS</td>\n",
              "    </tr>\n",
              "    <tr>\n",
              "      <th>56659</th>\n",
              "      <td>11507707</td>\n",
              "      <td>8</td>\n",
              "      <td>6</td>\n",
              "      <td>416</td>\n",
              "      <td>11632</td>\n",
              "      <td>416</td>\n",
              "      <td>0</td>\n",
              "      <td>52.000000</td>\n",
              "      <td>147.078211</td>\n",
              "      <td>5792</td>\n",
              "      <td>...</td>\n",
              "      <td>32</td>\n",
              "      <td>897.0</td>\n",
              "      <td>0.0</td>\n",
              "      <td>897</td>\n",
              "      <td>897</td>\n",
              "      <td>6503122.0</td>\n",
              "      <td>0.0</td>\n",
              "      <td>6503122</td>\n",
              "      <td>6503122</td>\n",
              "      <td>DoS</td>\n",
              "    </tr>\n",
              "    <tr>\n",
              "      <th>56660</th>\n",
              "      <td>11512204</td>\n",
              "      <td>8</td>\n",
              "      <td>5</td>\n",
              "      <td>326</td>\n",
              "      <td>11632</td>\n",
              "      <td>326</td>\n",
              "      <td>0</td>\n",
              "      <td>40.750000</td>\n",
              "      <td>115.258405</td>\n",
              "      <td>10184</td>\n",
              "      <td>...</td>\n",
              "      <td>32</td>\n",
              "      <td>892.0</td>\n",
              "      <td>0.0</td>\n",
              "      <td>892</td>\n",
              "      <td>892</td>\n",
              "      <td>6507197.0</td>\n",
              "      <td>0.0</td>\n",
              "      <td>6507197</td>\n",
              "      <td>6507197</td>\n",
              "      <td>DoS</td>\n",
              "    </tr>\n",
              "  </tbody>\n",
              "</table>\n",
              "<p>56661 rows × 78 columns</p>\n",
              "</div>\n",
              "    <div class=\"colab-df-buttons\">\n",
              "\n",
              "  <div class=\"colab-df-container\">\n",
              "    <button class=\"colab-df-convert\" onclick=\"convertToInteractive('df-8f205cc0-9a05-436a-8515-231be41a7f24')\"\n",
              "            title=\"Convert this dataframe to an interactive table.\"\n",
              "            style=\"display:none;\">\n",
              "\n",
              "  <svg xmlns=\"http://www.w3.org/2000/svg\" height=\"24px\" viewBox=\"0 -960 960 960\">\n",
              "    <path d=\"M120-120v-720h720v720H120Zm60-500h600v-160H180v160Zm220 220h160v-160H400v160Zm0 220h160v-160H400v160ZM180-400h160v-160H180v160Zm440 0h160v-160H620v160ZM180-180h160v-160H180v160Zm440 0h160v-160H620v160Z\"/>\n",
              "  </svg>\n",
              "    </button>\n",
              "\n",
              "  <style>\n",
              "    .colab-df-container {\n",
              "      display:flex;\n",
              "      gap: 12px;\n",
              "    }\n",
              "\n",
              "    .colab-df-convert {\n",
              "      background-color: #E8F0FE;\n",
              "      border: none;\n",
              "      border-radius: 50%;\n",
              "      cursor: pointer;\n",
              "      display: none;\n",
              "      fill: #1967D2;\n",
              "      height: 32px;\n",
              "      padding: 0 0 0 0;\n",
              "      width: 32px;\n",
              "    }\n",
              "\n",
              "    .colab-df-convert:hover {\n",
              "      background-color: #E2EBFA;\n",
              "      box-shadow: 0px 1px 2px rgba(60, 64, 67, 0.3), 0px 1px 3px 1px rgba(60, 64, 67, 0.15);\n",
              "      fill: #174EA6;\n",
              "    }\n",
              "\n",
              "    .colab-df-buttons div {\n",
              "      margin-bottom: 4px;\n",
              "    }\n",
              "\n",
              "    [theme=dark] .colab-df-convert {\n",
              "      background-color: #3B4455;\n",
              "      fill: #D2E3FC;\n",
              "    }\n",
              "\n",
              "    [theme=dark] .colab-df-convert:hover {\n",
              "      background-color: #434B5C;\n",
              "      box-shadow: 0px 1px 3px 1px rgba(0, 0, 0, 0.15);\n",
              "      filter: drop-shadow(0px 1px 2px rgba(0, 0, 0, 0.3));\n",
              "      fill: #FFFFFF;\n",
              "    }\n",
              "  </style>\n",
              "\n",
              "    <script>\n",
              "      const buttonEl =\n",
              "        document.querySelector('#df-8f205cc0-9a05-436a-8515-231be41a7f24 button.colab-df-convert');\n",
              "      buttonEl.style.display =\n",
              "        google.colab.kernel.accessAllowed ? 'block' : 'none';\n",
              "\n",
              "      async function convertToInteractive(key) {\n",
              "        const element = document.querySelector('#df-8f205cc0-9a05-436a-8515-231be41a7f24');\n",
              "        const dataTable =\n",
              "          await google.colab.kernel.invokeFunction('convertToInteractive',\n",
              "                                                    [key], {});\n",
              "        if (!dataTable) return;\n",
              "\n",
              "        const docLinkHtml = 'Like what you see? Visit the ' +\n",
              "          '<a target=\"_blank\" href=https://colab.research.google.com/notebooks/data_table.ipynb>data table notebook</a>'\n",
              "          + ' to learn more about interactive tables.';\n",
              "        element.innerHTML = '';\n",
              "        dataTable['output_type'] = 'display_data';\n",
              "        await google.colab.output.renderOutput(dataTable, element);\n",
              "        const docLink = document.createElement('div');\n",
              "        docLink.innerHTML = docLinkHtml;\n",
              "        element.appendChild(docLink);\n",
              "      }\n",
              "    </script>\n",
              "  </div>\n",
              "\n",
              "\n",
              "<div id=\"df-9ba5188a-9c65-4b9f-a1b1-f1e5ecfac256\">\n",
              "  <button class=\"colab-df-quickchart\" onclick=\"quickchart('df-9ba5188a-9c65-4b9f-a1b1-f1e5ecfac256')\"\n",
              "            title=\"Suggest charts\"\n",
              "            style=\"display:none;\">\n",
              "\n",
              "<svg xmlns=\"http://www.w3.org/2000/svg\" height=\"24px\"viewBox=\"0 0 24 24\"\n",
              "     width=\"24px\">\n",
              "    <g>\n",
              "        <path d=\"M19 3H5c-1.1 0-2 .9-2 2v14c0 1.1.9 2 2 2h14c1.1 0 2-.9 2-2V5c0-1.1-.9-2-2-2zM9 17H7v-7h2v7zm4 0h-2V7h2v10zm4 0h-2v-4h2v4z\"/>\n",
              "    </g>\n",
              "</svg>\n",
              "  </button>\n",
              "\n",
              "<style>\n",
              "  .colab-df-quickchart {\n",
              "      --bg-color: #E8F0FE;\n",
              "      --fill-color: #1967D2;\n",
              "      --hover-bg-color: #E2EBFA;\n",
              "      --hover-fill-color: #174EA6;\n",
              "      --disabled-fill-color: #AAA;\n",
              "      --disabled-bg-color: #DDD;\n",
              "  }\n",
              "\n",
              "  [theme=dark] .colab-df-quickchart {\n",
              "      --bg-color: #3B4455;\n",
              "      --fill-color: #D2E3FC;\n",
              "      --hover-bg-color: #434B5C;\n",
              "      --hover-fill-color: #FFFFFF;\n",
              "      --disabled-bg-color: #3B4455;\n",
              "      --disabled-fill-color: #666;\n",
              "  }\n",
              "\n",
              "  .colab-df-quickchart {\n",
              "    background-color: var(--bg-color);\n",
              "    border: none;\n",
              "    border-radius: 50%;\n",
              "    cursor: pointer;\n",
              "    display: none;\n",
              "    fill: var(--fill-color);\n",
              "    height: 32px;\n",
              "    padding: 0;\n",
              "    width: 32px;\n",
              "  }\n",
              "\n",
              "  .colab-df-quickchart:hover {\n",
              "    background-color: var(--hover-bg-color);\n",
              "    box-shadow: 0 1px 2px rgba(60, 64, 67, 0.3), 0 1px 3px 1px rgba(60, 64, 67, 0.15);\n",
              "    fill: var(--button-hover-fill-color);\n",
              "  }\n",
              "\n",
              "  .colab-df-quickchart-complete:disabled,\n",
              "  .colab-df-quickchart-complete:disabled:hover {\n",
              "    background-color: var(--disabled-bg-color);\n",
              "    fill: var(--disabled-fill-color);\n",
              "    box-shadow: none;\n",
              "  }\n",
              "\n",
              "  .colab-df-spinner {\n",
              "    border: 2px solid var(--fill-color);\n",
              "    border-color: transparent;\n",
              "    border-bottom-color: var(--fill-color);\n",
              "    animation:\n",
              "      spin 1s steps(1) infinite;\n",
              "  }\n",
              "\n",
              "  @keyframes spin {\n",
              "    0% {\n",
              "      border-color: transparent;\n",
              "      border-bottom-color: var(--fill-color);\n",
              "      border-left-color: var(--fill-color);\n",
              "    }\n",
              "    20% {\n",
              "      border-color: transparent;\n",
              "      border-left-color: var(--fill-color);\n",
              "      border-top-color: var(--fill-color);\n",
              "    }\n",
              "    30% {\n",
              "      border-color: transparent;\n",
              "      border-left-color: var(--fill-color);\n",
              "      border-top-color: var(--fill-color);\n",
              "      border-right-color: var(--fill-color);\n",
              "    }\n",
              "    40% {\n",
              "      border-color: transparent;\n",
              "      border-right-color: var(--fill-color);\n",
              "      border-top-color: var(--fill-color);\n",
              "    }\n",
              "    60% {\n",
              "      border-color: transparent;\n",
              "      border-right-color: var(--fill-color);\n",
              "    }\n",
              "    80% {\n",
              "      border-color: transparent;\n",
              "      border-right-color: var(--fill-color);\n",
              "      border-bottom-color: var(--fill-color);\n",
              "    }\n",
              "    90% {\n",
              "      border-color: transparent;\n",
              "      border-bottom-color: var(--fill-color);\n",
              "    }\n",
              "  }\n",
              "</style>\n",
              "\n",
              "  <script>\n",
              "    async function quickchart(key) {\n",
              "      const quickchartButtonEl =\n",
              "        document.querySelector('#' + key + ' button');\n",
              "      quickchartButtonEl.disabled = true;  // To prevent multiple clicks.\n",
              "      quickchartButtonEl.classList.add('colab-df-spinner');\n",
              "      try {\n",
              "        const charts = await google.colab.kernel.invokeFunction(\n",
              "            'suggestCharts', [key], {});\n",
              "      } catch (error) {\n",
              "        console.error('Error during call to suggestCharts:', error);\n",
              "      }\n",
              "      quickchartButtonEl.classList.remove('colab-df-spinner');\n",
              "      quickchartButtonEl.classList.add('colab-df-quickchart-complete');\n",
              "    }\n",
              "    (() => {\n",
              "      let quickchartButtonEl =\n",
              "        document.querySelector('#df-9ba5188a-9c65-4b9f-a1b1-f1e5ecfac256 button');\n",
              "      quickchartButtonEl.style.display =\n",
              "        google.colab.kernel.accessAllowed ? 'block' : 'none';\n",
              "    })();\n",
              "  </script>\n",
              "</div>\n",
              "\n",
              "  <div id=\"id_fe424cab-ba6b-4bb5-84c7-f1e44c3ceb9e\">\n",
              "    <style>\n",
              "      .colab-df-generate {\n",
              "        background-color: #E8F0FE;\n",
              "        border: none;\n",
              "        border-radius: 50%;\n",
              "        cursor: pointer;\n",
              "        display: none;\n",
              "        fill: #1967D2;\n",
              "        height: 32px;\n",
              "        padding: 0 0 0 0;\n",
              "        width: 32px;\n",
              "      }\n",
              "\n",
              "      .colab-df-generate:hover {\n",
              "        background-color: #E2EBFA;\n",
              "        box-shadow: 0px 1px 2px rgba(60, 64, 67, 0.3), 0px 1px 3px 1px rgba(60, 64, 67, 0.15);\n",
              "        fill: #174EA6;\n",
              "      }\n",
              "\n",
              "      [theme=dark] .colab-df-generate {\n",
              "        background-color: #3B4455;\n",
              "        fill: #D2E3FC;\n",
              "      }\n",
              "\n",
              "      [theme=dark] .colab-df-generate:hover {\n",
              "        background-color: #434B5C;\n",
              "        box-shadow: 0px 1px 3px 1px rgba(0, 0, 0, 0.15);\n",
              "        filter: drop-shadow(0px 1px 2px rgba(0, 0, 0, 0.3));\n",
              "        fill: #FFFFFF;\n",
              "      }\n",
              "    </style>\n",
              "    <button class=\"colab-df-generate\" onclick=\"generateWithVariable('df')\"\n",
              "            title=\"Generate code using this dataframe.\"\n",
              "            style=\"display:none;\">\n",
              "\n",
              "  <svg xmlns=\"http://www.w3.org/2000/svg\" height=\"24px\"viewBox=\"0 0 24 24\"\n",
              "       width=\"24px\">\n",
              "    <path d=\"M7,19H8.4L18.45,9,17,7.55,7,17.6ZM5,21V16.75L18.45,3.32a2,2,0,0,1,2.83,0l1.4,1.43a1.91,1.91,0,0,1,.58,1.4,1.91,1.91,0,0,1-.58,1.4L9.25,21ZM18.45,9,17,7.55Zm-12,3A5.31,5.31,0,0,0,4.9,8.1,5.31,5.31,0,0,0,1,6.5,5.31,5.31,0,0,0,4.9,4.9,5.31,5.31,0,0,0,6.5,1,5.31,5.31,0,0,0,8.1,4.9,5.31,5.31,0,0,0,12,6.5,5.46,5.46,0,0,0,6.5,12Z\"/>\n",
              "  </svg>\n",
              "    </button>\n",
              "    <script>\n",
              "      (() => {\n",
              "      const buttonEl =\n",
              "        document.querySelector('#id_fe424cab-ba6b-4bb5-84c7-f1e44c3ceb9e button.colab-df-generate');\n",
              "      buttonEl.style.display =\n",
              "        google.colab.kernel.accessAllowed ? 'block' : 'none';\n",
              "\n",
              "      buttonEl.onclick = () => {\n",
              "        google.colab.notebook.generateWithVariable('df');\n",
              "      }\n",
              "      })();\n",
              "    </script>\n",
              "  </div>\n",
              "\n",
              "    </div>\n",
              "  </div>\n"
            ],
            "text/plain": [
              "       Flow Duration  Total Fwd Packets  Total Backward Packets  \\\n",
              "0                  4                  2                       0   \n",
              "1             142377                 46                      62   \n",
              "2             118873                 23                      28   \n",
              "3             143577                 43                      55   \n",
              "4             143745                 49                      59   \n",
              "...              ...                ...                     ...   \n",
              "56656            234                  2                       2   \n",
              "56657         133288                  2                       2   \n",
              "56658       11507694                  5                       4   \n",
              "56659       11507707                  8                       6   \n",
              "56660       11512204                  8                       5   \n",
              "\n",
              "       Total Length of Fwd Packets  Total Length of Bwd Packets  \\\n",
              "0                               37                            0   \n",
              "1                             1325                       105855   \n",
              "2                             1169                        45025   \n",
              "3                             1301                       107289   \n",
              "4                             1331                       110185   \n",
              "...                            ...                          ...   \n",
              "56656                           64                          232   \n",
              "56657                           94                          482   \n",
              "56658                          450                         3525   \n",
              "56659                          416                        11632   \n",
              "56660                          326                        11632   \n",
              "\n",
              "       Fwd Packet Length Max  Fwd Packet Length Min  Fwd Packet Length Mean  \\\n",
              "0                         31                      6               18.500000   \n",
              "1                        570                      0               28.804348   \n",
              "2                        570                      0               50.826087   \n",
              "3                        570                      0               30.255814   \n",
              "4                        570                      0               27.163265   \n",
              "...                      ...                    ...                     ...   \n",
              "56656                     32                     32               32.000000   \n",
              "56657                     47                     47               47.000000   \n",
              "56658                    450                      0               90.000000   \n",
              "56659                    416                      0               52.000000   \n",
              "56660                    326                      0               40.750000   \n",
              "\n",
              "       Fwd Packet Length Std  Bwd Packet Length Max  ...  \\\n",
              "0                  17.677670                      0  ...   \n",
              "1                 111.407285                   4344  ...   \n",
              "2                 156.137367                   2896  ...   \n",
              "3                 115.178969                   4344  ...   \n",
              "4                 108.067176                   4344  ...   \n",
              "...                      ...                    ...  ...   \n",
              "56656               0.000000                    116  ...   \n",
              "56657               0.000000                    241  ...   \n",
              "56658             201.246118                   3525  ...   \n",
              "56659             147.078211                   5792  ...   \n",
              "56660             115.258405                  10184  ...   \n",
              "\n",
              "       min_seg_size_forward  Active Mean  Active Std  Active Max  Active Min  \\\n",
              "0                        20          0.0         0.0           0           0   \n",
              "1                        20          0.0         0.0           0           0   \n",
              "2                        32          0.0         0.0           0           0   \n",
              "3                        20          0.0         0.0           0           0   \n",
              "4                        20          0.0         0.0           0           0   \n",
              "...                     ...          ...         ...         ...         ...   \n",
              "56656                    32          0.0         0.0           0           0   \n",
              "56657                    32          0.0         0.0           0           0   \n",
              "56658                    32        893.0         0.0         893         893   \n",
              "56659                    32        897.0         0.0         897         897   \n",
              "56660                    32        892.0         0.0         892         892   \n",
              "\n",
              "       Idle Mean  Idle Std  Idle Max  Idle Min   Label  \n",
              "0            0.0       0.0         0         0  BENIGN  \n",
              "1            0.0       0.0         0         0  BENIGN  \n",
              "2            0.0       0.0         0         0  BENIGN  \n",
              "3            0.0       0.0         0         0  BENIGN  \n",
              "4            0.0       0.0         0         0  BENIGN  \n",
              "...          ...       ...       ...       ...     ...  \n",
              "56656        0.0       0.0         0         0  BENIGN  \n",
              "56657        0.0       0.0         0         0  BENIGN  \n",
              "56658  6503640.0       0.0   6503640   6503640     DoS  \n",
              "56659  6503122.0       0.0   6503122   6503122     DoS  \n",
              "56660  6507197.0       0.0   6507197   6507197     DoS  \n",
              "\n",
              "[56661 rows x 78 columns]"
            ]
          },
          "execution_count": 211,
          "metadata": {},
          "output_type": "execute_result"
        }
      ],
      "source": [
        "df"
      ]
    },
    {
      "cell_type": "code",
      "execution_count": 212,
      "metadata": {
        "id": "KLsNL51shq2u"
      },
      "outputs": [],
      "source": [
        "# Min-max normalization\n",
        "numeric_features = df.dtypes[df.dtypes != 'object'].index\n",
        "df[numeric_features] = df[numeric_features].apply(\n",
        "    lambda x: (x - x.min()) / (x.max()-x.min()))\n",
        "# Fill empty values by 0\n",
        "df = df.fillna(0)"
      ]
    },
    {
      "attachments": {},
      "cell_type": "markdown",
      "metadata": {
        "id": "mb2V9dkshvUB"
      },
      "source": [
        "### split train set and test set"
      ]
    },
    {
      "cell_type": "code",
      "execution_count": 213,
      "metadata": {
        "id": "ILf2SMe7hyIj"
      },
      "outputs": [],
      "source": [
        "labelencoder = LabelEncoder()\n",
        "df.iloc[:, -1] = labelencoder.fit_transform(df.iloc[:, -1])\n",
        "X = df.drop(['Label'],axis=1).values\n",
        "y = df.iloc[:, -1].values.reshape(-1,1)\n",
        "y=np.ravel(y)"
      ]
    },
    {
      "cell_type": "code",
      "execution_count": 214,
      "metadata": {
        "colab": {
          "base_uri": "https://localhost:8080/"
        },
        "id": "EsBczaIbh0xD",
        "outputId": "221add33-aab1-4ac5-fa6f-1be7ef9e8d4c"
      },
      "outputs": [
        {
          "name": "stdout",
          "output_type": "stream",
          "text": [
            "<class 'pandas.core.frame.DataFrame'>\n",
            "RangeIndex: 56661 entries, 0 to 56660\n",
            "Data columns (total 78 columns):\n",
            " #   Column                       Non-Null Count  Dtype  \n",
            "---  ------                       --------------  -----  \n",
            " 0   Flow Duration                56661 non-null  float64\n",
            " 1   Total Fwd Packets            56661 non-null  float64\n",
            " 2   Total Backward Packets       56661 non-null  float64\n",
            " 3   Total Length of Fwd Packets  56661 non-null  float64\n",
            " 4   Total Length of Bwd Packets  56661 non-null  float64\n",
            " 5   Fwd Packet Length Max        56661 non-null  float64\n",
            " 6   Fwd Packet Length Min        56661 non-null  float64\n",
            " 7   Fwd Packet Length Mean       56661 non-null  float64\n",
            " 8   Fwd Packet Length Std        56661 non-null  float64\n",
            " 9   Bwd Packet Length Max        56661 non-null  float64\n",
            " 10  Bwd Packet Length Min        56661 non-null  float64\n",
            " 11  Bwd Packet Length Mean       56661 non-null  float64\n",
            " 12  Bwd Packet Length Std        56661 non-null  float64\n",
            " 13  Flow Bytes/s                 56661 non-null  float64\n",
            " 14  Flow Packets/s               56661 non-null  float64\n",
            " 15  Flow IAT Mean                56661 non-null  float64\n",
            " 16  Flow IAT Std                 56661 non-null  float64\n",
            " 17  Flow IAT Max                 56661 non-null  float64\n",
            " 18  Flow IAT Min                 56661 non-null  float64\n",
            " 19  Fwd IAT Total                56661 non-null  float64\n",
            " 20  Fwd IAT Mean                 56661 non-null  float64\n",
            " 21  Fwd IAT Std                  56661 non-null  float64\n",
            " 22  Fwd IAT Max                  56661 non-null  float64\n",
            " 23  Fwd IAT Min                  56661 non-null  float64\n",
            " 24  Bwd IAT Total                56661 non-null  float64\n",
            " 25  Bwd IAT Mean                 56661 non-null  float64\n",
            " 26  Bwd IAT Std                  56661 non-null  float64\n",
            " 27  Bwd IAT Max                  56661 non-null  float64\n",
            " 28  Bwd IAT Min                  56661 non-null  float64\n",
            " 29  Fwd PSH Flags                56661 non-null  float64\n",
            " 30  Bwd PSH Flags                56661 non-null  float64\n",
            " 31  Fwd URG Flags                56661 non-null  float64\n",
            " 32  Bwd URG Flags                56661 non-null  float64\n",
            " 33  Fwd Header Length            56661 non-null  float64\n",
            " 34  Bwd Header Length            56661 non-null  float64\n",
            " 35  Fwd Packets/s                56661 non-null  float64\n",
            " 36  Bwd Packets/s                56661 non-null  float64\n",
            " 37  Min Packet Length            56661 non-null  float64\n",
            " 38  Max Packet Length            56661 non-null  float64\n",
            " 39  Packet Length Mean           56661 non-null  float64\n",
            " 40  Packet Length Std            56661 non-null  float64\n",
            " 41  Packet Length Variance       56661 non-null  float64\n",
            " 42  FIN Flag Count               56661 non-null  float64\n",
            " 43  SYN Flag Count               56661 non-null  float64\n",
            " 44  RST Flag Count               56661 non-null  float64\n",
            " 45  PSH Flag Count               56661 non-null  float64\n",
            " 46  ACK Flag Count               56661 non-null  float64\n",
            " 47  URG Flag Count               56661 non-null  float64\n",
            " 48  CWE Flag Count               56661 non-null  float64\n",
            " 49  ECE Flag Count               56661 non-null  float64\n",
            " 50  Down/Up Ratio                56661 non-null  float64\n",
            " 51  Average Packet Size          56661 non-null  float64\n",
            " 52  Avg Fwd Segment Size         56661 non-null  float64\n",
            " 53  Avg Bwd Segment Size         56661 non-null  float64\n",
            " 54  Fwd Header Length.1          56661 non-null  float64\n",
            " 55  Fwd Avg Bytes/Bulk           56661 non-null  float64\n",
            " 56  Fwd Avg Packets/Bulk         56661 non-null  float64\n",
            " 57  Fwd Avg Bulk Rate            56661 non-null  float64\n",
            " 58  Bwd Avg Bytes/Bulk           56661 non-null  float64\n",
            " 59  Bwd Avg Packets/Bulk         56661 non-null  float64\n",
            " 60  Bwd Avg Bulk Rate            56661 non-null  float64\n",
            " 61  Subflow Fwd Packets          56661 non-null  float64\n",
            " 62  Subflow Fwd Bytes            56661 non-null  float64\n",
            " 63  Subflow Bwd Packets          56661 non-null  float64\n",
            " 64  Subflow Bwd Bytes            56661 non-null  float64\n",
            " 65  Init_Win_bytes_forward       56661 non-null  float64\n",
            " 66  Init_Win_bytes_backward      56661 non-null  float64\n",
            " 67  act_data_pkt_fwd             56661 non-null  float64\n",
            " 68  min_seg_size_forward         56661 non-null  float64\n",
            " 69  Active Mean                  56661 non-null  float64\n",
            " 70  Active Std                   56661 non-null  float64\n",
            " 71  Active Max                   56661 non-null  float64\n",
            " 72  Active Min                   56661 non-null  float64\n",
            " 73  Idle Mean                    56661 non-null  float64\n",
            " 74  Idle Std                     56661 non-null  float64\n",
            " 75  Idle Max                     56661 non-null  float64\n",
            " 76  Idle Min                     56661 non-null  float64\n",
            " 77  Label                        56661 non-null  int64  \n",
            "dtypes: float64(77), int64(1)\n",
            "memory usage: 33.7 MB\n"
          ]
        }
      ],
      "source": [
        "df.info()"
      ]
    },
    {
      "cell_type": "code",
      "execution_count": 215,
      "metadata": {
        "id": "JaPOTVCEh8Rw"
      },
      "outputs": [],
      "source": [
        "X_train, X_test, y_train, y_test = train_test_split(X,y, train_size = 0.8, test_size = 0.2, random_state = 0,stratify = y)"
      ]
    },
    {
      "cell_type": "code",
      "execution_count": 216,
      "metadata": {
        "colab": {
          "base_uri": "https://localhost:8080/"
        },
        "id": "t6MOV0Odh9T8",
        "outputId": "c536effb-2b40-4427-8ed7-807b6e2d7c3d"
      },
      "outputs": [
        {
          "data": {
            "text/plain": [
              "(45328, 77)"
            ]
          },
          "execution_count": 216,
          "metadata": {},
          "output_type": "execute_result"
        }
      ],
      "source": [
        "X_train.shape"
      ]
    },
    {
      "cell_type": "code",
      "execution_count": 217,
      "metadata": {
        "colab": {
          "base_uri": "https://localhost:8080/"
        },
        "id": "8wfnTfG1iANp",
        "outputId": "124c9800-3a13-4541-b47d-f6966c21097a"
      },
      "outputs": [
        {
          "data": {
            "text/plain": [
              "0    18184\n",
              "3    15228\n",
              "5     6357\n",
              "2     2213\n",
              "6     1744\n",
              "1     1573\n",
              "4       29\n",
              "dtype: int64"
            ]
          },
          "execution_count": 217,
          "metadata": {},
          "output_type": "execute_result"
        }
      ],
      "source": [
        "pd.Series(y_train).value_counts()"
      ]
    },
    {
      "attachments": {},
      "cell_type": "markdown",
      "metadata": {
        "id": "lKDd6eShiGHD"
      },
      "source": [
        "### Oversampling by SMOTE\n",
        "\n",
        "\n",
        "\n"
      ]
    },
    {
      "cell_type": "code",
      "execution_count": 218,
      "metadata": {
        "id": "Pe6NY9dsiFVv"
      },
      "outputs": [],
      "source": [
        "from imblearn.over_sampling import SMOTE\n",
        "smote=SMOTE(n_jobs=-1,sampling_strategy={4:1500}) # Create 1500 samples for the minority class \"4\""
      ]
    },
    {
      "cell_type": "code",
      "execution_count": 219,
      "metadata": {
        "id": "ec6yXWKGiZ-K"
      },
      "outputs": [],
      "source": [
        "X_train, y_train = smote.fit_resample(X_train, y_train)"
      ]
    },
    {
      "cell_type": "code",
      "execution_count": 220,
      "metadata": {
        "colab": {
          "base_uri": "https://localhost:8080/"
        },
        "id": "PxkEjjvzic8I",
        "outputId": "601e3a62-78b4-433a-cf5c-8f8535d33e1d"
      },
      "outputs": [
        {
          "data": {
            "text/plain": [
              "0    18184\n",
              "3    15228\n",
              "5     6357\n",
              "2     2213\n",
              "6     1744\n",
              "1     1573\n",
              "4     1500\n",
              "dtype: int64"
            ]
          },
          "execution_count": 220,
          "metadata": {},
          "output_type": "execute_result"
        }
      ],
      "source": [
        "pd.Series(y_train).value_counts()"
      ]
    },
    {
      "attachments": {},
      "cell_type": "markdown",
      "metadata": {
        "id": "r6qXg3sfiivf"
      },
      "source": [
        "## Machine learning model training"
      ]
    },
    {
      "attachments": {},
      "cell_type": "markdown",
      "metadata": {
        "id": "aAlXZ0w5ijiL"
      },
      "source": [
        "### Training four base learners: decision tree, random forest, extra trees, XGBoost"
      ]
    },
    {
      "cell_type": "code",
      "execution_count": 221,
      "metadata": {
        "colab": {
          "base_uri": "https://localhost:8080/",
          "height": 777
        },
        "id": "3Ua9skXJifKT",
        "outputId": "4d8f0905-dbf1-48ee-94d8-08f6bbd5071b"
      },
      "outputs": [
        {
          "name": "stdout",
          "output_type": "stream",
          "text": [
            "Accuracy of DT: 0.995764581311215\n",
            "Precision of DT: 0.9958703639084684\n",
            "Recall of DT: 0.995764581311215\n",
            "F1-score of DT: 0.9957994130825865\n",
            "              precision    recall  f1-score   support\n",
            "\n",
            "           0       1.00      0.99      1.00      4547\n",
            "           1       0.99      0.98      0.98       393\n",
            "           2       0.99      1.00      1.00       554\n",
            "           3       1.00      1.00      1.00      3807\n",
            "           4       0.60      0.86      0.71         7\n",
            "           5       1.00      1.00      1.00      1589\n",
            "           6       0.99      0.99      0.99       436\n",
            "\n",
            "    accuracy                           1.00     11333\n",
            "   macro avg       0.94      0.97      0.95     11333\n",
            "weighted avg       1.00      1.00      1.00     11333\n",
            "\n"
          ]
        },
        {
          "data": {
            "image/png": "[encoded data removed]",
            "text/plain": [
              "<Figure size 500x500 with 2 Axes>"
            ]
          },
          "metadata": {},
          "output_type": "display_data"
        }
      ],
      "source": [
        "# Decision tree training and prediction\n",
        "dt = DecisionTreeClassifier(random_state = 0)\n",
        "dt.fit(X_train,y_train)\n",
        "dt_score=dt.score(X_test,y_test)\n",
        "y_predict=dt.predict(X_test)\n",
        "y_true=y_test\n",
        "print('Accuracy of DT: '+ str(dt_score))\n",
        "precision,recall,fscore,none= precision_recall_fscore_support(y_true, y_predict, average='weighted')\n",
        "print('Precision of DT: '+(str(precision)))\n",
        "print('Recall of DT: '+(str(recall)))\n",
        "print('F1-score of DT: '+(str(fscore)))\n",
        "print(classification_report(y_true,y_predict))\n",
        "cm=confusion_matrix(y_true,y_predict)\n",
        "f,ax=plt.subplots(figsize=(5,5))\n",
        "sns.heatmap(cm,annot=True,linewidth=0.5,linecolor=\"red\",fmt=\".0f\",ax=ax)\n",
        "plt.xlabel(\"y_pred\")\n",
        "plt.ylabel(\"y_true\")\n",
        "plt.show()"
      ]
    },
    {
      "cell_type": "code",
      "execution_count": 222,
      "metadata": {
        "id": "Cq4nfZ2Uio-1"
      },
      "outputs": [],
      "source": [
        "dt_train=dt.predict(X_train)\n",
        "dt_test=dt.predict(X_test)"
      ]
    },
    {
      "cell_type": "code",
      "execution_count": 223,
      "metadata": {
        "colab": {
          "base_uri": "https://localhost:8080/",
          "height": 777
        },
        "id": "r60Zvgv5irJM",
        "outputId": "468ef450-657d-4dc1-e2a3-071aa0dc4262"
      },
      "outputs": [
        {
          "name": "stdout",
          "output_type": "stream",
          "text": [
            "Accuracy of RF: 0.9954116297538163\n",
            "Precision of RF: 0.9954396998156001\n",
            "Recall of RF: 0.9954116297538163\n",
            "F1-score of RF: 0.995401995713903\n",
            "              precision    recall  f1-score   support\n",
            "\n",
            "           0       1.00      0.99      0.99      4547\n",
            "           1       0.96      0.98      0.97       393\n",
            "           2       1.00      1.00      1.00       554\n",
            "           3       1.00      1.00      1.00      3807\n",
            "           4       1.00      0.71      0.83         7\n",
            "           5       1.00      1.00      1.00      1589\n",
            "           6       1.00      0.98      0.99       436\n",
            "\n",
            "    accuracy                           1.00     11333\n",
            "   macro avg       0.99      0.95      0.97     11333\n",
            "weighted avg       1.00      1.00      1.00     11333\n",
            "\n"
          ]
        },
        {
          "data": {
            "image/png": "[encoded data removed]",
            "text/plain": [
              "<Figure size 500x500 with 2 Axes>"
            ]
          },
          "metadata": {},
          "output_type": "display_data"
        }
      ],
      "source": [
        "# Random Forest training and prediction\n",
        "rf = RandomForestClassifier(random_state = 0)\n",
        "rf.fit(X_train,y_train)\n",
        "rf_score=rf.score(X_test,y_test)\n",
        "y_predict=rf.predict(X_test)\n",
        "y_true=y_test\n",
        "print('Accuracy of RF: '+ str(rf_score))\n",
        "precision,recall,fscore,none= precision_recall_fscore_support(y_true, y_predict, average='weighted')\n",
        "print('Precision of RF: '+(str(precision)))\n",
        "print('Recall of RF: '+(str(recall)))\n",
        "print('F1-score of RF: '+(str(fscore)))\n",
        "print(classification_report(y_true,y_predict))\n",
        "cm=confusion_matrix(y_true,y_predict)\n",
        "f,ax=plt.subplots(figsize=(5,5))\n",
        "sns.heatmap(cm,annot=True,linewidth=0.5,linecolor=\"red\",fmt=\".0f\",ax=ax)\n",
        "plt.xlabel(\"y_pred\")\n",
        "plt.ylabel(\"y_true\")\n",
        "plt.show()"
      ]
    },
    {
      "cell_type": "code",
      "execution_count": 224,
      "metadata": {
        "id": "ote2LN-divny"
      },
      "outputs": [],
      "source": [
        "rf_train=rf.predict(X_train)\n",
        "rf_test=rf.predict(X_test)"
      ]
    },
    {
      "cell_type": "code",
      "execution_count": 225,
      "metadata": {
        "colab": {
          "base_uri": "https://localhost:8080/",
          "height": 777
        },
        "id": "YECs6Pfciyz7",
        "outputId": "2af4e616-3ad5-44b7-863b-bdcade323eac"
      },
      "outputs": [
        {
          "name": "stdout",
          "output_type": "stream",
          "text": [
            "Accuracy of ET: 0.992676255183976\n",
            "Precision of ET: 0.9926875778879892\n",
            "Recall of ET: 0.992676255183976\n",
            "F1-score of ET: 0.9926591858580645\n",
            "              precision    recall  f1-score   support\n",
            "\n",
            "           0       0.99      0.99      0.99      4547\n",
            "           1       0.96      0.97      0.96       393\n",
            "           2       0.99      1.00      0.99       554\n",
            "           3       0.99      1.00      1.00      3807\n",
            "           4       1.00      0.71      0.83         7\n",
            "           5       1.00      1.00      1.00      1589\n",
            "           6       0.99      0.97      0.98       436\n",
            "\n",
            "    accuracy                           0.99     11333\n",
            "   macro avg       0.99      0.95      0.97     11333\n",
            "weighted avg       0.99      0.99      0.99     11333\n",
            "\n"
          ]
        },
        {
          "data": {
            "image/png": "[encoded data removed]",
            "text/plain": [
              "<Figure size 500x500 with 2 Axes>"
            ]
          },
          "metadata": {},
          "output_type": "display_data"
        }
      ],
      "source": [
        "# Extra trees training and prediction\n",
        "et = ExtraTreesClassifier(random_state = 0)\n",
        "et.fit(X_train,y_train)\n",
        "et_score=et.score(X_test,y_test)\n",
        "y_predict=et.predict(X_test)\n",
        "y_true=y_test\n",
        "print('Accuracy of ET: '+ str(et_score))\n",
        "precision,recall,fscore,none= precision_recall_fscore_support(y_true, y_predict, average='weighted')\n",
        "print('Precision of ET: '+(str(precision)))\n",
        "print('Recall of ET: '+(str(recall)))\n",
        "print('F1-score of ET: '+(str(fscore)))\n",
        "print(classification_report(y_true,y_predict))\n",
        "cm=confusion_matrix(y_true,y_predict)\n",
        "f,ax=plt.subplots(figsize=(5,5))\n",
        "sns.heatmap(cm,annot=True,linewidth=0.5,linecolor=\"red\",fmt=\".0f\",ax=ax)\n",
        "plt.xlabel(\"y_pred\")\n",
        "plt.ylabel(\"y_true\")\n",
        "plt.show()"
      ]
    },
    {
      "cell_type": "code",
      "execution_count": 226,
      "metadata": {
        "id": "eTvczHSAi0kd"
      },
      "outputs": [],
      "source": [
        "et_train=et.predict(X_train)\n",
        "et_test=et.predict(X_test)"
      ]
    },
    {
      "cell_type": "code",
      "execution_count": 227,
      "metadata": {
        "colab": {
          "base_uri": "https://localhost:8080/",
          "height": 777
        },
        "id": "HNQDhpr1i6Q6",
        "outputId": "bdd1b6e9-3350-40b2-9e7e-c9abbfe71554"
      },
      "outputs": [
        {
          "name": "stdout",
          "output_type": "stream",
          "text": [
            "Accuracy of XGBoost: 0.9937351098561722\n",
            "Precision of XGBoost: 0.9937300111222847\n",
            "Recall of XGBoost: 0.9937351098561722\n",
            "F1-score of XGBoost: 0.9937165377181066\n",
            "              precision    recall  f1-score   support\n",
            "\n",
            "           0       0.99      0.99      0.99      4547\n",
            "           1       0.99      0.97      0.98       393\n",
            "           2       1.00      0.99      0.99       554\n",
            "           3       0.99      1.00      1.00      3807\n",
            "           4       0.83      0.71      0.77         7\n",
            "           5       1.00      1.00      1.00      1589\n",
            "           6       1.00      0.98      0.99       436\n",
            "\n",
            "    accuracy                           0.99     11333\n",
            "   macro avg       0.97      0.95      0.96     11333\n",
            "weighted avg       0.99      0.99      0.99     11333\n",
            "\n"
          ]
        },
        {
          "data": {
            "image/png": "[encoded data removed]",
            "text/plain": [
              "<Figure size 500x500 with 2 Axes>"
            ]
          },
          "metadata": {},
          "output_type": "display_data"
        }
      ],
      "source": [
        "# XGboost training and prediction\n",
        "xg = xgb.XGBClassifier(n_estimators = 10)\n",
        "xg.fit(X_train,y_train)\n",
        "xg_score=xg.score(X_test,y_test)\n",
        "y_predict=xg.predict(X_test)\n",
        "y_true=y_test\n",
        "print('Accuracy of XGBoost: '+ str(xg_score))\n",
        "precision,recall,fscore,none= precision_recall_fscore_support(y_true, y_predict, average='weighted')\n",
        "print('Precision of XGBoost: '+(str(precision)))\n",
        "print('Recall of XGBoost: '+(str(recall)))\n",
        "print('F1-score of XGBoost: '+(str(fscore)))\n",
        "print(classification_report(y_true,y_predict))\n",
        "cm=confusion_matrix(y_true,y_predict)\n",
        "f,ax=plt.subplots(figsize=(5,5))\n",
        "sns.heatmap(cm,annot=True,linewidth=0.5,linecolor=\"red\",fmt=\".0f\",ax=ax)\n",
        "plt.xlabel(\"y_pred\")\n",
        "plt.ylabel(\"y_true\")\n",
        "plt.show()"
      ]
    },
    {
      "cell_type": "code",
      "execution_count": 228,
      "metadata": {
        "id": "XKbjkgqUi70X"
      },
      "outputs": [],
      "source": [
        "xg_train=xg.predict(X_train)\n",
        "xg_test=xg.predict(X_test)"
      ]
    },
    {
      "attachments": {},
      "cell_type": "markdown",
      "metadata": {
        "id": "xvx3Xs7kjB8p"
      },
      "source": [
        "### Stacking model construction (ensemble for 4 base learners)\n"
      ]
    },
    {
      "cell_type": "code",
      "execution_count": 229,
      "metadata": {
        "colab": {
          "base_uri": "https://localhost:8080/",
          "height": 206
        },
        "id": "msUfA3MWi966",
        "outputId": "7860bd01-f4c2-42a8-cbba-ef2b62837ca2"
      },
      "outputs": [
        {
          "data": {
            "application/vnd.google.colaboratory.intrinsic+json": {
              "summary": "{\n  \"name\": \"base_predictions_train\",\n  \"rows\": 46799,\n  \"fields\": [\n    {\n      \"column\": \"DecisionTree\",\n      \"properties\": {\n        \"dtype\": \"number\",\n        \"std\": 1,\n        \"min\": 0,\n        \"max\": 6,\n        \"num_unique_values\": 7,\n        \"samples\": [\n          5,\n          3,\n          1\n        ],\n        \"semantic_type\": \"\",\n        \"description\": \"\"\n      }\n    },\n    {\n      \"column\": \"RandomForest\",\n      \"properties\": {\n        \"dtype\": \"number\",\n        \"std\": 1,\n        \"min\": 0,\n        \"max\": 6,\n        \"num_unique_values\": 7,\n        \"samples\": [\n          5,\n          3,\n          1\n        ],\n        \"semantic_type\": \"\",\n        \"description\": \"\"\n      }\n    },\n    {\n      \"column\": \"ExtraTrees\",\n      \"properties\": {\n        \"dtype\": \"number\",\n        \"std\": 1,\n        \"min\": 0,\n        \"max\": 6,\n        \"num_unique_values\": 7,\n        \"samples\": [\n          5,\n          3,\n          1\n        ],\n        \"semantic_type\": \"\",\n        \"description\": \"\"\n      }\n    },\n    {\n      \"column\": \"XgBoost\",\n      \"properties\": {\n        \"dtype\": \"number\",\n        \"std\": 1,\n        \"min\": 0,\n        \"max\": 6,\n        \"num_unique_values\": 7,\n        \"samples\": [\n          5,\n          3,\n          1\n        ],\n        \"semantic_type\": \"\",\n        \"description\": \"\"\n      }\n    }\n  ]\n}",
              "type": "dataframe",
              "variable_name": "base_predictions_train"
            },
            "text/html": [
              "\n",
              "  <div id=\"df-8974259c-3ad4-41be-bcce-9bf4750afc06\" class=\"colab-df-container\">\n",
              "    <div>\n",
              "<style scoped>\n",
              "    .dataframe tbody tr th:only-of-type {\n",
              "        vertical-align: middle;\n",
              "    }\n",
              "\n",
              "    .dataframe tbody tr th {\n",
              "        vertical-align: top;\n",
              "    }\n",
              "\n",
              "    .dataframe thead th {\n",
              "        text-align: right;\n",
              "    }\n",
              "</style>\n",
              "<table border=\"1\" class=\"dataframe\">\n",
              "  <thead>\n",
              "    <tr style=\"text-align: right;\">\n",
              "      <th></th>\n",
              "      <th>DecisionTree</th>\n",
              "      <th>RandomForest</th>\n",
              "      <th>ExtraTrees</th>\n",
              "      <th>XgBoost</th>\n",
              "    </tr>\n",
              "  </thead>\n",
              "  <tbody>\n",
              "    <tr>\n",
              "      <th>0</th>\n",
              "      <td>5</td>\n",
              "      <td>5</td>\n",
              "      <td>5</td>\n",
              "      <td>5</td>\n",
              "    </tr>\n",
              "    <tr>\n",
              "      <th>1</th>\n",
              "      <td>3</td>\n",
              "      <td>3</td>\n",
              "      <td>3</td>\n",
              "      <td>3</td>\n",
              "    </tr>\n",
              "    <tr>\n",
              "      <th>2</th>\n",
              "      <td>5</td>\n",
              "      <td>5</td>\n",
              "      <td>5</td>\n",
              "      <td>5</td>\n",
              "    </tr>\n",
              "    <tr>\n",
              "      <th>3</th>\n",
              "      <td>3</td>\n",
              "      <td>3</td>\n",
              "      <td>3</td>\n",
              "      <td>3</td>\n",
              "    </tr>\n",
              "    <tr>\n",
              "      <th>4</th>\n",
              "      <td>2</td>\n",
              "      <td>2</td>\n",
              "      <td>2</td>\n",
              "      <td>2</td>\n",
              "    </tr>\n",
              "  </tbody>\n",
              "</table>\n",
              "</div>\n",
              "    <div class=\"colab-df-buttons\">\n",
              "\n",
              "  <div class=\"colab-df-container\">\n",
              "    <button class=\"colab-df-convert\" onclick=\"convertToInteractive('df-8974259c-3ad4-41be-bcce-9bf4750afc06')\"\n",
              "            title=\"Convert this dataframe to an interactive table.\"\n",
              "            style=\"display:none;\">\n",
              "\n",
              "  <svg xmlns=\"http://www.w3.org/2000/svg\" height=\"24px\" viewBox=\"0 -960 960 960\">\n",
              "    <path d=\"M120-120v-720h720v720H120Zm60-500h600v-160H180v160Zm220 220h160v-160H400v160Zm0 220h160v-160H400v160ZM180-400h160v-160H180v160Zm440 0h160v-160H620v160ZM180-180h160v-160H180v160Zm440 0h160v-160H620v160Z\"/>\n",
              "  </svg>\n",
              "    </button>\n",
              "\n",
              "  <style>\n",
              "    .colab-df-container {\n",
              "      display:flex;\n",
              "      gap: 12px;\n",
              "    }\n",
              "\n",
              "    .colab-df-convert {\n",
              "      background-color: #E8F0FE;\n",
              "      border: none;\n",
              "      border-radius: 50%;\n",
              "      cursor: pointer;\n",
              "      display: none;\n",
              "      fill: #1967D2;\n",
              "      height: 32px;\n",
              "      padding: 0 0 0 0;\n",
              "      width: 32px;\n",
              "    }\n",
              "\n",
              "    .colab-df-convert:hover {\n",
              "      background-color: #E2EBFA;\n",
              "      box-shadow: 0px 1px 2px rgba(60, 64, 67, 0.3), 0px 1px 3px 1px rgba(60, 64, 67, 0.15);\n",
              "      fill: #174EA6;\n",
              "    }\n",
              "\n",
              "    .colab-df-buttons div {\n",
              "      margin-bottom: 4px;\n",
              "    }\n",
              "\n",
              "    [theme=dark] .colab-df-convert {\n",
              "      background-color: #3B4455;\n",
              "      fill: #D2E3FC;\n",
              "    }\n",
              "\n",
              "    [theme=dark] .colab-df-convert:hover {\n",
              "      background-color: #434B5C;\n",
              "      box-shadow: 0px 1px 3px 1px rgba(0, 0, 0, 0.15);\n",
              "      filter: drop-shadow(0px 1px 2px rgba(0, 0, 0, 0.3));\n",
              "      fill: #FFFFFF;\n",
              "    }\n",
              "  </style>\n",
              "\n",
              "    <script>\n",
              "      const buttonEl =\n",
              "        document.querySelector('#df-8974259c-3ad4-41be-bcce-9bf4750afc06 button.colab-df-convert');\n",
              "      buttonEl.style.display =\n",
              "        google.colab.kernel.accessAllowed ? 'block' : 'none';\n",
              "\n",
              "      async function convertToInteractive(key) {\n",
              "        const element = document.querySelector('#df-8974259c-3ad4-41be-bcce-9bf4750afc06');\n",
              "        const dataTable =\n",
              "          await google.colab.kernel.invokeFunction('convertToInteractive',\n",
              "                                                    [key], {});\n",
              "        if (!dataTable) return;\n",
              "\n",
              "        const docLinkHtml = 'Like what you see? Visit the ' +\n",
              "          '<a target=\"_blank\" href=https://colab.research.google.com/notebooks/data_table.ipynb>data table notebook</a>'\n",
              "          + ' to learn more about interactive tables.';\n",
              "        element.innerHTML = '';\n",
              "        dataTable['output_type'] = 'display_data';\n",
              "        await google.colab.output.renderOutput(dataTable, element);\n",
              "        const docLink = document.createElement('div');\n",
              "        docLink.innerHTML = docLinkHtml;\n",
              "        element.appendChild(docLink);\n",
              "      }\n",
              "    </script>\n",
              "  </div>\n",
              "\n",
              "\n",
              "<div id=\"df-3df205e2-72c1-43b6-a070-c0c60f74b855\">\n",
              "  <button class=\"colab-df-quickchart\" onclick=\"quickchart('df-3df205e2-72c1-43b6-a070-c0c60f74b855')\"\n",
              "            title=\"Suggest charts\"\n",
              "            style=\"display:none;\">\n",
              "\n",
              "<svg xmlns=\"http://www.w3.org/2000/svg\" height=\"24px\"viewBox=\"0 0 24 24\"\n",
              "     width=\"24px\">\n",
              "    <g>\n",
              "        <path d=\"M19 3H5c-1.1 0-2 .9-2 2v14c0 1.1.9 2 2 2h14c1.1 0 2-.9 2-2V5c0-1.1-.9-2-2-2zM9 17H7v-7h2v7zm4 0h-2V7h2v10zm4 0h-2v-4h2v4z\"/>\n",
              "    </g>\n",
              "</svg>\n",
              "  </button>\n",
              "\n",
              "<style>\n",
              "  .colab-df-quickchart {\n",
              "      --bg-color: #E8F0FE;\n",
              "      --fill-color: #1967D2;\n",
              "      --hover-bg-color: #E2EBFA;\n",
              "      --hover-fill-color: #174EA6;\n",
              "      --disabled-fill-color: #AAA;\n",
              "      --disabled-bg-color: #DDD;\n",
              "  }\n",
              "\n",
              "  [theme=dark] .colab-df-quickchart {\n",
              "      --bg-color: #3B4455;\n",
              "      --fill-color: #D2E3FC;\n",
              "      --hover-bg-color: #434B5C;\n",
              "      --hover-fill-color: #FFFFFF;\n",
              "      --disabled-bg-color: #3B4455;\n",
              "      --disabled-fill-color: #666;\n",
              "  }\n",
              "\n",
              "  .colab-df-quickchart {\n",
              "    background-color: var(--bg-color);\n",
              "    border: none;\n",
              "    border-radius: 50%;\n",
              "    cursor: pointer;\n",
              "    display: none;\n",
              "    fill: var(--fill-color);\n",
              "    height: 32px;\n",
              "    padding: 0;\n",
              "    width: 32px;\n",
              "  }\n",
              "\n",
              "  .colab-df-quickchart:hover {\n",
              "    background-color: var(--hover-bg-color);\n",
              "    box-shadow: 0 1px 2px rgba(60, 64, 67, 0.3), 0 1px 3px 1px rgba(60, 64, 67, 0.15);\n",
              "    fill: var(--button-hover-fill-color);\n",
              "  }\n",
              "\n",
              "  .colab-df-quickchart-complete:disabled,\n",
              "  .colab-df-quickchart-complete:disabled:hover {\n",
              "    background-color: var(--disabled-bg-color);\n",
              "    fill: var(--disabled-fill-color);\n",
              "    box-shadow: none;\n",
              "  }\n",
              "\n",
              "  .colab-df-spinner {\n",
              "    border: 2px solid var(--fill-color);\n",
              "    border-color: transparent;\n",
              "    border-bottom-color: var(--fill-color);\n",
              "    animation:\n",
              "      spin 1s steps(1) infinite;\n",
              "  }\n",
              "\n",
              "  @keyframes spin {\n",
              "    0% {\n",
              "      border-color: transparent;\n",
              "      border-bottom-color: var(--fill-color);\n",
              "      border-left-color: var(--fill-color);\n",
              "    }\n",
              "    20% {\n",
              "      border-color: transparent;\n",
              "      border-left-color: var(--fill-color);\n",
              "      border-top-color: var(--fill-color);\n",
              "    }\n",
              "    30% {\n",
              "      border-color: transparent;\n",
              "      border-left-color: var(--fill-color);\n",
              "      border-top-color: var(--fill-color);\n",
              "      border-right-color: var(--fill-color);\n",
              "    }\n",
              "    40% {\n",
              "      border-color: transparent;\n",
              "      border-right-color: var(--fill-color);\n",
              "      border-top-color: var(--fill-color);\n",
              "    }\n",
              "    60% {\n",
              "      border-color: transparent;\n",
              "      border-right-color: var(--fill-color);\n",
              "    }\n",
              "    80% {\n",
              "      border-color: transparent;\n",
              "      border-right-color: var(--fill-color);\n",
              "      border-bottom-color: var(--fill-color);\n",
              "    }\n",
              "    90% {\n",
              "      border-color: transparent;\n",
              "      border-bottom-color: var(--fill-color);\n",
              "    }\n",
              "  }\n",
              "</style>\n",
              "\n",
              "  <script>\n",
              "    async function quickchart(key) {\n",
              "      const quickchartButtonEl =\n",
              "        document.querySelector('#' + key + ' button');\n",
              "      quickchartButtonEl.disabled = true;  // To prevent multiple clicks.\n",
              "      quickchartButtonEl.classList.add('colab-df-spinner');\n",
              "      try {\n",
              "        const charts = await google.colab.kernel.invokeFunction(\n",
              "            'suggestCharts', [key], {});\n",
              "      } catch (error) {\n",
              "        console.error('Error during call to suggestCharts:', error);\n",
              "      }\n",
              "      quickchartButtonEl.classList.remove('colab-df-spinner');\n",
              "      quickchartButtonEl.classList.add('colab-df-quickchart-complete');\n",
              "    }\n",
              "    (() => {\n",
              "      let quickchartButtonEl =\n",
              "        document.querySelector('#df-3df205e2-72c1-43b6-a070-c0c60f74b855 button');\n",
              "      quickchartButtonEl.style.display =\n",
              "        google.colab.kernel.accessAllowed ? 'block' : 'none';\n",
              "    })();\n",
              "  </script>\n",
              "</div>\n",
              "\n",
              "    </div>\n",
              "  </div>\n"
            ],
            "text/plain": [
              "   DecisionTree  RandomForest  ExtraTrees  XgBoost\n",
              "0             5             5           5        5\n",
              "1             3             3           3        3\n",
              "2             5             5           5        5\n",
              "3             3             3           3        3\n",
              "4             2             2           2        2"
            ]
          },
          "execution_count": 229,
          "metadata": {},
          "output_type": "execute_result"
        }
      ],
      "source": [
        "# Use the outputs of 4 base models to construct a new ensemble model\n",
        "base_predictions_train = pd.DataFrame( {\n",
        "    'DecisionTree': dt_train.ravel(),\n",
        "        'RandomForest': rf_train.ravel(),\n",
        "     'ExtraTrees': et_train.ravel(),\n",
        "     'XgBoost': xg_train.ravel(),\n",
        "    })\n",
        "base_predictions_train.head(5)"
      ]
    },
    {
      "cell_type": "code",
      "execution_count": 230,
      "metadata": {
        "id": "QBjiCrC4jEfE"
      },
      "outputs": [],
      "source": [
        "dt_train=dt_train.reshape(-1, 1)\n",
        "et_train=et_train.reshape(-1, 1)\n",
        "rf_train=rf_train.reshape(-1, 1)\n",
        "xg_train=xg_train.reshape(-1, 1)\n",
        "dt_test=dt_test.reshape(-1, 1)\n",
        "et_test=et_test.reshape(-1, 1)\n",
        "rf_test=rf_test.reshape(-1, 1)\n",
        "xg_test=xg_test.reshape(-1, 1)"
      ]
    },
    {
      "cell_type": "code",
      "execution_count": 231,
      "metadata": {
        "id": "WhmIqp3djHij"
      },
      "outputs": [],
      "source": [
        "x_train = np.concatenate(( dt_train, et_train, rf_train, xg_train), axis=1)\n",
        "x_test = np.concatenate(( dt_test, et_test, rf_test, xg_test), axis=1)"
      ]
    },
    {
      "cell_type": "code",
      "execution_count": 232,
      "metadata": {
        "colab": {
          "base_uri": "https://localhost:8080/"
        },
        "id": "3CloJs4OgVme",
        "outputId": "450b3297-2098-4a18-df19-fe5df10444b9"
      },
      "outputs": [
        {
          "data": {
            "text/plain": [
              "array([[5, 5, 5, 5],\n",
              "       [3, 3, 3, 3],\n",
              "       [5, 5, 5, 5],\n",
              "       ...,\n",
              "       [4, 4, 4, 4],\n",
              "       [4, 4, 4, 4],\n",
              "       [4, 4, 4, 4]])"
            ]
          },
          "execution_count": 232,
          "metadata": {},
          "output_type": "execute_result"
        }
      ],
      "source": [
        "x_train"
      ]
    },
    {
      "cell_type": "code",
      "execution_count": 233,
      "metadata": {
        "id": "v6Oo27dOjJk7"
      },
      "outputs": [],
      "source": [
        "stk = xgb.XGBClassifier().fit(x_train, y_train)"
      ]
    },
    {
      "cell_type": "code",
      "execution_count": 234,
      "metadata": {
        "colab": {
          "base_uri": "https://localhost:8080/",
          "height": 777
        },
        "id": "UzMR6kKBjLhI",
        "outputId": "e092e4e2-71cd-4643-8fcf-65cf5dc3dc46"
      },
      "outputs": [
        {
          "name": "stdout",
          "output_type": "stream",
          "text": [
            "Accuracy of Stacking: 0.9956763434218654\n",
            "Precision of Stacking: 0.9956797642373375\n",
            "Recall of Stacking: 0.9956763434218654\n",
            "F1-score of Stacking: 0.9956585173545193\n",
            "              precision    recall  f1-score   support\n",
            "\n",
            "           0       1.00      0.99      1.00      4547\n",
            "           1       0.99      0.98      0.98       393\n",
            "           2       0.99      1.00      1.00       554\n",
            "           3       1.00      1.00      1.00      3807\n",
            "           4       1.00      0.71      0.83         7\n",
            "           5       1.00      1.00      1.00      1589\n",
            "           6       0.99      0.99      0.99       436\n",
            "\n",
            "    accuracy                           1.00     11333\n",
            "   macro avg       0.99      0.95      0.97     11333\n",
            "weighted avg       1.00      1.00      1.00     11333\n",
            "\n"
          ]
        },
        {
          "data": {
            "image/png": "[encoded data removed]",
            "text/plain": [
              "<Figure size 500x500 with 2 Axes>"
            ]
          },
          "metadata": {},
          "output_type": "display_data"
        }
      ],
      "source": [
        "y_predict=stk.predict(x_test)\n",
        "y_true=y_test\n",
        "stk_score=accuracy_score(y_true,y_predict)\n",
        "print('Accuracy of Stacking: '+ str(stk_score))\n",
        "precision,recall,fscore,none= precision_recall_fscore_support(y_true, y_predict, average='weighted')\n",
        "print('Precision of Stacking: '+(str(precision)))\n",
        "print('Recall of Stacking: '+(str(recall)))\n",
        "print('F1-score of Stacking: '+(str(fscore)))\n",
        "print(classification_report(y_true,y_predict))\n",
        "cm=confusion_matrix(y_true,y_predict)\n",
        "f,ax=plt.subplots(figsize=(5,5))\n",
        "sns.heatmap(cm,annot=True,linewidth=0.5,linecolor=\"red\",fmt=\".0f\",ax=ax)\n",
        "plt.xlabel(\"y_pred\")\n",
        "plt.ylabel(\"y_true\")\n",
        "plt.show()"
      ]
    },
    {
      "attachments": {},
      "cell_type": "markdown",
      "metadata": {
        "id": "ElzPED7MjR5u"
      },
      "source": [
        "## Feature Selection"
      ]
    },
    {
      "attachments": {},
      "cell_type": "markdown",
      "metadata": {
        "id": "n4tGIf1cjTlX"
      },
      "source": [
        "### Feature importance"
      ]
    },
    {
      "cell_type": "code",
      "execution_count": 235,
      "metadata": {
        "id": "wJOS28OvjNiT"
      },
      "outputs": [],
      "source": [
        "# Save the feature importance lists generated by four tree-based algorithms\n",
        "dt_feature = dt.feature_importances_\n",
        "rf_feature = rf.feature_importances_\n",
        "et_feature = et.feature_importances_\n",
        "xgb_feature = xg.feature_importances_"
      ]
    },
    {
      "cell_type": "code",
      "execution_count": 236,
      "metadata": {
        "id": "kvvIaDgSjXq-"
      },
      "outputs": [],
      "source": [
        "# calculate the average importance value of each feature\n",
        "avg_feature = (dt_feature + rf_feature + et_feature + xgb_feature)/4"
      ]
    },
    {
      "cell_type": "code",
      "execution_count": 237,
      "metadata": {
        "colab": {
          "base_uri": "https://localhost:8080/"
        },
        "id": "nEn0EG0SjaST",
        "outputId": "b8154446-9a96-4e9f-bbea-174b48318168"
      },
      "outputs": [
        {
          "name": "stdout",
          "output_type": "stream",
          "text": [
            "Features sorted by their score:\n",
            "[(0.1181, 'Bwd Packet Length Std'), (0.0794, 'Bwd Packet Length Min'), (0.0669, 'Average Packet Size'), (0.0504, 'Init_Win_bytes_backward'), (0.0431, 'Init_Win_bytes_forward'), (0.0389, 'PSH Flag Count'), (0.0382, 'Bwd Packets/s'), (0.0344, 'Avg Bwd Segment Size'), (0.0298, 'Packet Length Std'), (0.0284, 'Bwd Packet Length Mean'), (0.0244, 'Fwd Header Length'), (0.024, 'Packet Length Mean'), (0.0234, 'Bwd Header Length'), (0.0173, 'min_seg_size_forward'), (0.017, 'act_data_pkt_fwd'), (0.017, 'Bwd Packet Length Max'), (0.0164, 'Max Packet Length'), (0.0157, 'Subflow Bwd Packets'), (0.0145, 'Total Length of Fwd Packets'), (0.0143, 'Packet Length Variance'), (0.0143, 'ACK Flag Count'), (0.0127, 'Fwd PSH Flags'), (0.012, 'Idle Max'), (0.0117, 'Fwd Header Length.1'), (0.0111, 'Fwd IAT Max'), (0.0109, 'Fwd Packet Length Mean'), (0.0107, 'Total Fwd Packets'), (0.0102, 'Total Length of Bwd Packets'), (0.0101, 'Min Packet Length'), (0.0092, 'Fwd IAT Mean'), (0.009, 'URG Flag Count'), (0.0087, 'Fwd IAT Total'), (0.0086, 'Fwd IAT Min'), (0.0084, 'Fwd Packet Length Max'), (0.0083, 'Avg Fwd Segment Size'), (0.0082, 'Total Backward Packets'), (0.008, 'Fwd IAT Std'), (0.0078, 'Flow IAT Max'), (0.0076, 'Flow Duration'), (0.007, 'Subflow Fwd Packets'), (0.0068, 'Subflow Fwd Bytes'), (0.0068, 'Bwd IAT Total'), (0.0066, 'Flow IAT Mean'), (0.0066, 'Down/Up Ratio'), (0.0065, 'Subflow Bwd Bytes'), (0.0064, 'Fwd Packet Length Min'), (0.0059, 'Flow IAT Std'), (0.0057, 'Fwd Packets/s'), (0.0057, 'Flow IAT Min'), (0.005, 'Fwd Packet Length Std'), (0.005, 'FIN Flag Count'), (0.0043, 'Bwd IAT Min'), (0.0041, 'Idle Mean'), (0.0031, 'SYN Flag Count'), (0.0029, 'Idle Min'), (0.0028, 'Bwd IAT Mean'), (0.0025, 'Bwd IAT Max'), (0.0023, 'Bwd IAT Std'), (0.0022, 'Idle Std'), (0.001, 'Active Mean'), (0.0008, 'Active Min'), (0.0006, 'Active Max'), (0.0002, 'Active Std'), (0.0, 'RST Flag Count'), (0.0, 'Fwd URG Flags'), (0.0, 'Fwd Avg Packets/Bulk'), (0.0, 'Fwd Avg Bytes/Bulk'), (0.0, 'Fwd Avg Bulk Rate'), (0.0, 'Flow Packets/s'), (0.0, 'Flow Bytes/s'), (0.0, 'ECE Flag Count'), (0.0, 'CWE Flag Count'), (0.0, 'Bwd URG Flags'), (0.0, 'Bwd PSH Flags'), (0.0, 'Bwd Avg Packets/Bulk'), (0.0, 'Bwd Avg Bytes/Bulk'), (0.0, 'Bwd Avg Bulk Rate')]\n"
          ]
        }
      ],
      "source": [
        "feature=(df.drop(['Label'],axis=1)).columns.values\n",
        "print (\"Features sorted by their score:\")\n",
        "print (sorted(zip(map(lambda x: round(x, 4), avg_feature), feature), reverse=True))"
      ]
    },
    {
      "cell_type": "code",
      "execution_count": 238,
      "metadata": {
        "id": "YaZvbjICxso0"
      },
      "outputs": [],
      "source": [
        "f_list = sorted(zip(map(lambda x: round(x, 4), avg_feature), feature), reverse=True)"
      ]
    },
    {
      "cell_type": "code",
      "execution_count": 239,
      "metadata": {
        "colab": {
          "base_uri": "https://localhost:8080/"
        },
        "id": "iJxKz2WWje9c",
        "outputId": "efc38c93-379b-4399-bac1-1b8736bf6c02"
      },
      "outputs": [
        {
          "data": {
            "text/plain": [
              "[(0.1181, 'Bwd Packet Length Std'),\n",
              " (0.0794, 'Bwd Packet Length Min'),\n",
              " (0.0669, 'Average Packet Size'),\n",
              " (0.0504, 'Init_Win_bytes_backward'),\n",
              " (0.0431, 'Init_Win_bytes_forward'),\n",
              " (0.0389, 'PSH Flag Count'),\n",
              " (0.0382, 'Bwd Packets/s'),\n",
              " (0.0344, 'Avg Bwd Segment Size'),\n",
              " (0.0298, 'Packet Length Std'),\n",
              " (0.0284, 'Bwd Packet Length Mean'),\n",
              " (0.0244, 'Fwd Header Length'),\n",
              " (0.024, 'Packet Length Mean'),\n",
              " (0.0234, 'Bwd Header Length'),\n",
              " (0.0173, 'min_seg_size_forward'),\n",
              " (0.017, 'act_data_pkt_fwd'),\n",
              " (0.017, 'Bwd Packet Length Max'),\n",
              " (0.0164, 'Max Packet Length'),\n",
              " (0.0157, 'Subflow Bwd Packets'),\n",
              " (0.0145, 'Total Length of Fwd Packets'),\n",
              " (0.0143, 'Packet Length Variance'),\n",
              " (0.0143, 'ACK Flag Count'),\n",
              " (0.0127, 'Fwd PSH Flags'),\n",
              " (0.012, 'Idle Max'),\n",
              " (0.0117, 'Fwd Header Length.1'),\n",
              " (0.0111, 'Fwd IAT Max'),\n",
              " (0.0109, 'Fwd Packet Length Mean'),\n",
              " (0.0107, 'Total Fwd Packets'),\n",
              " (0.0102, 'Total Length of Bwd Packets'),\n",
              " (0.0101, 'Min Packet Length'),\n",
              " (0.0092, 'Fwd IAT Mean'),\n",
              " (0.009, 'URG Flag Count'),\n",
              " (0.0087, 'Fwd IAT Total'),\n",
              " (0.0086, 'Fwd IAT Min'),\n",
              " (0.0084, 'Fwd Packet Length Max'),\n",
              " (0.0083, 'Avg Fwd Segment Size'),\n",
              " (0.0082, 'Total Backward Packets'),\n",
              " (0.008, 'Fwd IAT Std'),\n",
              " (0.0078, 'Flow IAT Max'),\n",
              " (0.0076, 'Flow Duration'),\n",
              " (0.007, 'Subflow Fwd Packets'),\n",
              " (0.0068, 'Subflow Fwd Bytes'),\n",
              " (0.0068, 'Bwd IAT Total'),\n",
              " (0.0066, 'Flow IAT Mean'),\n",
              " (0.0066, 'Down/Up Ratio'),\n",
              " (0.0065, 'Subflow Bwd Bytes'),\n",
              " (0.0064, 'Fwd Packet Length Min'),\n",
              " (0.0059, 'Flow IAT Std'),\n",
              " (0.0057, 'Fwd Packets/s'),\n",
              " (0.0057, 'Flow IAT Min'),\n",
              " (0.005, 'Fwd Packet Length Std'),\n",
              " (0.005, 'FIN Flag Count'),\n",
              " (0.0043, 'Bwd IAT Min'),\n",
              " (0.0041, 'Idle Mean'),\n",
              " (0.0031, 'SYN Flag Count'),\n",
              " (0.0029, 'Idle Min'),\n",
              " (0.0028, 'Bwd IAT Mean'),\n",
              " (0.0025, 'Bwd IAT Max'),\n",
              " (0.0023, 'Bwd IAT Std'),\n",
              " (0.0022, 'Idle Std'),\n",
              " (0.001, 'Active Mean'),\n",
              " (0.0008, 'Active Min'),\n",
              " (0.0006, 'Active Max'),\n",
              " (0.0002, 'Active Std'),\n",
              " (0.0, 'RST Flag Count'),\n",
              " (0.0, 'Fwd URG Flags'),\n",
              " (0.0, 'Fwd Avg Packets/Bulk'),\n",
              " (0.0, 'Fwd Avg Bytes/Bulk'),\n",
              " (0.0, 'Fwd Avg Bulk Rate'),\n",
              " (0.0, 'Flow Packets/s'),\n",
              " (0.0, 'Flow Bytes/s'),\n",
              " (0.0, 'ECE Flag Count'),\n",
              " (0.0, 'CWE Flag Count'),\n",
              " (0.0, 'Bwd URG Flags'),\n",
              " (0.0, 'Bwd PSH Flags'),\n",
              " (0.0, 'Bwd Avg Packets/Bulk'),\n",
              " (0.0, 'Bwd Avg Bytes/Bulk'),\n",
              " (0.0, 'Bwd Avg Bulk Rate')]"
            ]
          },
          "execution_count": 239,
          "metadata": {},
          "output_type": "execute_result"
        }
      ],
      "source": [
        "f_list"
      ]
    },
    {
      "cell_type": "code",
      "execution_count": 240,
      "metadata": {
        "id": "hcLwcnAMjgke"
      },
      "outputs": [],
      "source": [
        "# Select the important features from top-importance to bottom-importance until the accumulated importance reaches 0.9 (out of 1)\n",
        "Sum = 0\n",
        "fs = []\n",
        "for i in range(0, 15):\n",
        "    Sum = Sum + f_list[i][0]\n",
        "    fs.append(f_list[i][1])\n",
        "    if Sum>=0.9:\n",
        "        break"
      ]
    },
    {
      "cell_type": "code",
      "execution_count": 241,
      "metadata": {
        "id": "kF960iEMwVjZ"
      },
      "outputs": [],
      "source": [
        "X_fs = df[fs].values"
      ]
    },
    {
      "cell_type": "code",
      "execution_count": 242,
      "metadata": {
        "colab": {
          "base_uri": "https://localhost:8080/"
        },
        "id": "MW3r7PEjBQrU",
        "outputId": "13143f7c-ce13-4e54-cf81-0fd9ebb5b57a"
      },
      "outputs": [
        {
          "data": {
            "text/plain": [
              "array([[0.00000000e+00, 0.00000000e+00, 1.59005879e-02, ...,\n",
              "        0.00000000e+00, 3.33333333e-01, 1.66833500e-04],\n",
              "       [1.26400520e-01, 0.00000000e+00, 4.64113566e-01, ...,\n",
              "        1.00834211e-02, 3.33333333e-01, 5.00500501e-03],\n",
              "       [1.34744047e-01, 0.00000000e+00, 4.23593863e-01, ...,\n",
              "        4.57601037e-03, 5.33333333e-01, 6.67334001e-04],\n",
              "       ...,\n",
              "       [2.63280686e-01, 0.00000000e+00, 2.06551755e-01, ...,\n",
              "        6.88426338e-04, 5.33333333e-01, 1.66833500e-04],\n",
              "       [3.80157728e-01, 0.00000000e+00, 4.02458578e-01, ...,\n",
              "        1.01239167e-03, 5.33333333e-01, 1.66833500e-04],\n",
              "       [6.62803535e-01, 0.00000000e+00, 4.30179254e-01, ...,\n",
              "        8.50409006e-04, 5.33333333e-01, 1.66833500e-04]])"
            ]
          },
          "execution_count": 242,
          "metadata": {},
          "output_type": "execute_result"
        }
      ],
      "source": [
        "X_fs"
      ]
    },
    {
      "cell_type": "code",
      "execution_count": 243,
      "metadata": {
        "colab": {
          "base_uri": "https://localhost:8080/"
        },
        "id": "cuYfHK_F86BG",
        "outputId": "b3373cdc-b5c9-488c-9074-788831c0410c"
      },
      "outputs": [
        {
          "data": {
            "text/plain": [
              "(56661, 15)"
            ]
          },
          "execution_count": 243,
          "metadata": {},
          "output_type": "execute_result"
        }
      ],
      "source": [
        "X_fs.shape"
      ]
    },
    {
      "cell_type": "code",
      "execution_count": 244,
      "metadata": {
        "id": "7ElXOieCjknb"
      },
      "outputs": [],
      "source": [
        "X_train, X_test, y_train, y_test = train_test_split(X_fs,y, train_size = 0.8, test_size = 0.2, random_state = 0,stratify = y)"
      ]
    },
    {
      "cell_type": "code",
      "execution_count": 245,
      "metadata": {
        "colab": {
          "base_uri": "https://localhost:8080/"
        },
        "id": "NKcRE81ygLHC",
        "outputId": "38bcc1b4-b386-436b-c4fb-f92a88eebf2e"
      },
      "outputs": [
        {
          "data": {
            "text/plain": [
              "array([[0.00000000e+00, 4.14364641e-03, 2.33832175e-03, ...,\n",
              "        1.01239167e-04, 4.00000000e-01, 0.00000000e+00],\n",
              "       [3.16418904e-01, 0.00000000e+00, 4.28596390e-01, ...,\n",
              "        1.17437434e-03, 5.33333333e-01, 1.66833500e-04],\n",
              "       [0.00000000e+00, 4.14364641e-03, 1.40299305e-03, ...,\n",
              "        1.01239167e-04, 6.66666667e-01, 0.00000000e+00],\n",
              "       ...,\n",
              "       [0.00000000e+00, 4.14364641e-03, 4.20897916e-03, ...,\n",
              "        1.01239167e-04, 3.33333333e-01, 0.00000000e+00],\n",
              "       [0.00000000e+00, 4.14364641e-03, 2.33832175e-03, ...,\n",
              "        1.01239167e-04, 4.00000000e-01, 0.00000000e+00],\n",
              "       [3.40519070e-01, 0.00000000e+00, 4.30646919e-01, ...,\n",
              "        1.17437434e-03, 3.33333333e-01, 5.00500501e-04]])"
            ]
          },
          "execution_count": 245,
          "metadata": {},
          "output_type": "execute_result"
        }
      ],
      "source": [
        "X_train"
      ]
    },
    {
      "cell_type": "code",
      "execution_count": 246,
      "metadata": {
        "colab": {
          "base_uri": "https://localhost:8080/"
        },
        "id": "X7hxXA1BjnAY",
        "outputId": "8a4c28eb-b85a-4d35-b55a-73c492e756e7"
      },
      "outputs": [
        {
          "data": {
            "text/plain": [
              "(45328, 15)"
            ]
          },
          "execution_count": 246,
          "metadata": {},
          "output_type": "execute_result"
        }
      ],
      "source": [
        "X_train.shape"
      ]
    },
    {
      "cell_type": "code",
      "execution_count": 247,
      "metadata": {
        "colab": {
          "base_uri": "https://localhost:8080/"
        },
        "id": "DFSWelGMjpgv",
        "outputId": "4e83b619-e2a0-4a93-c0f1-8dd678da9908"
      },
      "outputs": [
        {
          "data": {
            "text/plain": [
              "0    18184\n",
              "3    15228\n",
              "5     6357\n",
              "2     2213\n",
              "6     1744\n",
              "1     1573\n",
              "4       29\n",
              "dtype: int64"
            ]
          },
          "execution_count": 247,
          "metadata": {},
          "output_type": "execute_result"
        }
      ],
      "source": [
        "pd.Series(y_train).value_counts()"
      ]
    },
    {
      "attachments": {},
      "cell_type": "markdown",
      "metadata": {
        "id": "ZnHzlE-hjxmU"
      },
      "source": [
        "### Oversampling by SMOTE"
      ]
    },
    {
      "cell_type": "code",
      "execution_count": 248,
      "metadata": {
        "id": "oaB9ESqYjr1J"
      },
      "outputs": [],
      "source": [
        "from imblearn.over_sampling import SMOTE\n",
        "smote=SMOTE(n_jobs=-1,sampling_strategy={4:1500})"
      ]
    },
    {
      "cell_type": "code",
      "execution_count": 249,
      "metadata": {
        "id": "mz8kj4dZj1Xb"
      },
      "outputs": [],
      "source": [
        "X_train, y_train = smote.fit_resample(X_train, y_train)"
      ]
    },
    {
      "cell_type": "code",
      "execution_count": 250,
      "metadata": {
        "colab": {
          "base_uri": "https://localhost:8080/"
        },
        "id": "r2b1mEqfj3wa",
        "outputId": "cdf6f331-32dd-47ea-f9bb-f03575c5d2d6"
      },
      "outputs": [
        {
          "data": {
            "text/plain": [
              "0    18184\n",
              "3    15228\n",
              "5     6357\n",
              "2     2213\n",
              "6     1744\n",
              "1     1573\n",
              "4     1500\n",
              "dtype: int64"
            ]
          },
          "execution_count": 250,
          "metadata": {},
          "output_type": "execute_result"
        }
      ],
      "source": [
        "pd.Series(y_train).value_counts()"
      ]
    },
    {
      "attachments": {},
      "cell_type": "markdown",
      "metadata": {
        "id": "e81bHosVkAR0"
      },
      "source": [
        "## Machine learning model training after feature selection"
      ]
    },
    {
      "cell_type": "code",
      "execution_count": 251,
      "metadata": {
        "colab": {
          "base_uri": "https://localhost:8080/",
          "height": 777
        },
        "id": "fRZLtQfsj6zN",
        "outputId": "db639ece-16d4-4720-9833-8958f40e56fa"
      },
      "outputs": [
        {
          "name": "stdout",
          "output_type": "stream",
          "text": [
            "Accuracy of DT: 0.9935586340774729\n",
            "Precision of DT: 0.9939119253951915\n",
            "Recall of DT: 0.9935586340774729\n",
            "F1-score of DT: 0.9936955534983903\n",
            "              precision    recall  f1-score   support\n",
            "\n",
            "           0       1.00      0.99      0.99      4547\n",
            "           1       0.99      0.99      0.99       393\n",
            "           2       0.99      1.00      0.99       554\n",
            "           3       1.00      1.00      1.00      3807\n",
            "           4       0.33      0.57      0.42         7\n",
            "           5       1.00      1.00      1.00      1589\n",
            "           6       0.95      0.99      0.97       436\n",
            "\n",
            "    accuracy                           0.99     11333\n",
            "   macro avg       0.89      0.93      0.91     11333\n",
            "weighted avg       0.99      0.99      0.99     11333\n",
            "\n"
          ]
        },
        {
          "data": {
            "image/png": "[encoded data removed]",
            "text/plain": [
              "<Figure size 500x500 with 2 Axes>"
            ]
          },
          "metadata": {},
          "output_type": "display_data"
        }
      ],
      "source": [
        "dt = DecisionTreeClassifier(random_state = 0)\n",
        "dt.fit(X_train,y_train)\n",
        "dt_score=dt.score(X_test,y_test)\n",
        "y_predict=dt.predict(X_test)\n",
        "y_true=y_test\n",
        "print('Accuracy of DT: '+ str(dt_score))\n",
        "precision,recall,fscore,none= precision_recall_fscore_support(y_true, y_predict, average='weighted')\n",
        "print('Precision of DT: '+(str(precision)))\n",
        "print('Recall of DT: '+(str(recall)))\n",
        "print('F1-score of DT: '+(str(fscore)))\n",
        "print(classification_report(y_true,y_predict))\n",
        "cm=confusion_matrix(y_true,y_predict)\n",
        "f,ax=plt.subplots(figsize=(5,5))\n",
        "sns.heatmap(cm,annot=True,linewidth=0.5,linecolor=\"red\",fmt=\".0f\",ax=ax)\n",
        "plt.xlabel(\"y_pred\")\n",
        "plt.ylabel(\"y_true\")\n",
        "plt.show()"
      ]
    },
    {
      "cell_type": "code",
      "execution_count": 252,
      "metadata": {
        "id": "QsZ9c5BIkC65"
      },
      "outputs": [],
      "source": [
        "dt_train=dt.predict(X_train)\n",
        "dt_test=dt.predict(X_test)"
      ]
    },
    {
      "cell_type": "code",
      "execution_count": 253,
      "metadata": {
        "colab": {
          "base_uri": "https://localhost:8080/",
          "height": 777
        },
        "id": "6DZnvJ9PkHUW",
        "outputId": "621339c4-4d33-4ce1-8557-d280a8462924"
      },
      "outputs": [
        {
          "name": "stdout",
          "output_type": "stream",
          "text": [
            "Accuracy of RF: 0.995764581311215\n",
            "Precision of RF: 0.9959178436941877\n",
            "Recall of RF: 0.995764581311215\n",
            "F1-score of RF: 0.9958233280613533\n",
            "              precision    recall  f1-score   support\n",
            "\n",
            "           0       1.00      0.99      1.00      4547\n",
            "           1       0.99      0.99      0.99       393\n",
            "           2       1.00      1.00      1.00       554\n",
            "           3       1.00      1.00      1.00      3807\n",
            "           4       0.50      0.71      0.59         7\n",
            "           5       1.00      1.00      1.00      1589\n",
            "           6       0.97      0.99      0.98       436\n",
            "\n",
            "    accuracy                           1.00     11333\n",
            "   macro avg       0.92      0.95      0.94     11333\n",
            "weighted avg       1.00      1.00      1.00     11333\n",
            "\n"
          ]
        },
        {
          "data": {
            "image/png": "[encoded data removed]",
            "text/plain": [
              "<Figure size 500x500 with 2 Axes>"
            ]
          },
          "metadata": {},
          "output_type": "display_data"
        }
      ],
      "source": [
        "rf = RandomForestClassifier(random_state = 0)\n",
        "rf.fit(X_train,y_train) # modelin veri üzerinde öğrenmesi fit fonksiyonuyla yapılıyor\n",
        "rf_score=rf.score(X_test,y_test)\n",
        "y_predict=rf.predict(X_test)\n",
        "y_true=y_test\n",
        "print('Accuracy of RF: '+ str(rf_score))\n",
        "precision,recall,fscore,none= precision_recall_fscore_support(y_true, y_predict, average='weighted')\n",
        "print('Precision of RF: '+(str(precision)))\n",
        "print('Recall of RF: '+(str(recall)))\n",
        "print('F1-score of RF: '+(str(fscore)))\n",
        "print(classification_report(y_true,y_predict))\n",
        "cm=confusion_matrix(y_true,y_predict)\n",
        "f,ax=plt.subplots(figsize=(5,5))\n",
        "sns.heatmap(cm,annot=True,linewidth=0.5,linecolor=\"red\",fmt=\".0f\",ax=ax)\n",
        "plt.xlabel(\"y_pred\")\n",
        "plt.ylabel(\"y_true\")\n",
        "plt.show()"
      ]
    },
    {
      "cell_type": "code",
      "execution_count": 254,
      "metadata": {
        "id": "1kQzsnMokJz_"
      },
      "outputs": [],
      "source": [
        "rf_train=rf.predict(X_train)\n",
        "rf_test=rf.predict(X_test)"
      ]
    },
    {
      "cell_type": "code",
      "execution_count": 255,
      "metadata": {
        "colab": {
          "base_uri": "https://localhost:8080/",
          "height": 777
        },
        "id": "b-ATWCXbkOGk",
        "outputId": "228df057-ecba-4513-ebe9-536d10aa3168"
      },
      "outputs": [
        {
          "name": "stdout",
          "output_type": "stream",
          "text": [
            "Accuracy of ET: 0.995235153975117\n",
            "Precision of ET: 0.9954024449202317\n",
            "Recall of ET: 0.995235153975117\n",
            "F1-score of ET: 0.9952960613490919\n",
            "              precision    recall  f1-score   support\n",
            "\n",
            "           0       1.00      0.99      0.99      4547\n",
            "           1       0.98      0.99      0.99       393\n",
            "           2       1.00      1.00      1.00       554\n",
            "           3       1.00      1.00      1.00      3807\n",
            "           4       0.50      0.71      0.59         7\n",
            "           5       1.00      1.00      1.00      1589\n",
            "           6       0.97      0.99      0.98       436\n",
            "\n",
            "    accuracy                           1.00     11333\n",
            "   macro avg       0.92      0.96      0.93     11333\n",
            "weighted avg       1.00      1.00      1.00     11333\n",
            "\n"
          ]
        },
        {
          "data": {
            "image/png": "[encoded data removed]",
            "text/plain": [
              "<Figure size 500x500 with 2 Axes>"
            ]
          },
          "metadata": {},
          "output_type": "display_data"
        }
      ],
      "source": [
        "et = ExtraTreesClassifier(random_state = 0)\n",
        "et.fit(X_train,y_train)\n",
        "et_score=et.score(X_test,y_test)\n",
        "y_predict=et.predict(X_test)\n",
        "y_true=y_test\n",
        "print('Accuracy of ET: '+ str(et_score))\n",
        "precision,recall,fscore,none= precision_recall_fscore_support(y_true, y_predict, average='weighted')\n",
        "print('Precision of ET: '+(str(precision)))\n",
        "print('Recall of ET: '+(str(recall)))\n",
        "print('F1-score of ET: '+(str(fscore)))\n",
        "print(classification_report(y_true,y_predict))\n",
        "cm=confusion_matrix(y_true,y_predict)\n",
        "f,ax=plt.subplots(figsize=(5,5))\n",
        "sns.heatmap(cm,annot=True,linewidth=0.5,linecolor=\"red\",fmt=\".0f\",ax=ax)\n",
        "plt.xlabel(\"y_pred\")\n",
        "plt.ylabel(\"y_true\")\n",
        "plt.show()"
      ]
    },
    {
      "cell_type": "code",
      "execution_count": 256,
      "metadata": {
        "id": "wXIvNBsFkQQb"
      },
      "outputs": [],
      "source": [
        "et_train=et.predict(X_train)\n",
        "et_test=et.predict(X_test)"
      ]
    },
    {
      "cell_type": "code",
      "execution_count": 257,
      "metadata": {
        "colab": {
          "base_uri": "https://localhost:8080/",
          "height": 782
        },
        "id": "Y69vnEkLkS71",
        "outputId": "1ad7d1fb-1868-49fa-a801-2667cac893b1"
      },
      "outputs": [
        {
          "name": "stdout",
          "output_type": "stream",
          "text": [
            "Accuracy of XGBoost: 0.9910879731756816\n",
            "Precision of XGBoost: 0.9911368665716496\n",
            "Recall of XGBoost: 0.9910879731756816\n",
            "F1-score of XGBoost: 0.9911071004981257\n",
            "              precision    recall  f1-score   support\n",
            "\n",
            "           0       0.99      0.99      0.99      4547\n",
            "           1       0.98      0.98      0.98       393\n",
            "           2       1.00      0.99      1.00       554\n",
            "           3       0.99      0.99      0.99      3807\n",
            "           4       0.62      0.71      0.67         7\n",
            "           5       1.00      1.00      1.00      1589\n",
            "           6       0.97      0.98      0.97       436\n",
            "\n",
            "    accuracy                           0.99     11333\n",
            "   macro avg       0.94      0.95      0.94     11333\n",
            "weighted avg       0.99      0.99      0.99     11333\n",
            "\n"
          ]
        },
        {
          "data": {
            "image/png": "[encoded data removed]",
            "text/plain": [
              "<Figure size 500x500 with 2 Axes>"
            ]
          },
          "metadata": {},
          "output_type": "display_data"
        }
      ],
      "source": [
        "xg = xgb.XGBClassifier(n_estimators = 10)\n",
        "xg.fit(X_train,y_train)\n",
        "xg_score=xg.score(X_test,y_test)\n",
        "y_predict=xg.predict(X_test)\n",
        "y_true=y_test\n",
        "print('Accuracy of XGBoost: '+ str(xg_score))\n",
        "precision,recall,fscore,none= precision_recall_fscore_support(y_true, y_predict, average='weighted')\n",
        "print('Precision of XGBoost: '+(str(precision)))\n",
        "print('Recall of XGBoost: '+(str(recall)))\n",
        "print('F1-score of XGBoost: '+(str(fscore)))\n",
        "print(classification_report(y_true,y_predict))\n",
        "cm=confusion_matrix(y_true,y_predict)\n",
        "f,ax=plt.subplots(figsize=(5,5))\n",
        "sns.heatmap(cm,annot=True,linewidth=0.5,linecolor=\"red\",fmt=\".0f\",ax=ax)\n",
        "plt.xlabel(\"y_pred\")\n",
        "plt.ylabel(\"y_true\")\n",
        "plt.show()"
      ]
    },
    {
      "cell_type": "code",
      "execution_count": 258,
      "metadata": {
        "id": "6Q6aEVXikU94"
      },
      "outputs": [],
      "source": [
        "xg_train=xg.predict(X_train)\n",
        "xg_test=xg.predict(X_test)"
      ]
    },
    {
      "attachments": {},
      "cell_type": "markdown",
      "metadata": {
        "id": "5GVehzaPkaor"
      },
      "source": [
        "### Stacking model construction"
      ]
    },
    {
      "cell_type": "code",
      "execution_count": 259,
      "metadata": {
        "colab": {
          "base_uri": "https://localhost:8080/",
          "height": 206
        },
        "id": "dPynYR9jkXtH",
        "outputId": "07f7b9be-8016-4656-92e6-4e6091d416cf"
      },
      "outputs": [
        {
          "data": {
            "application/vnd.google.colaboratory.intrinsic+json": {
              "summary": "{\n  \"name\": \"base_predictions_train\",\n  \"rows\": 46799,\n  \"fields\": [\n    {\n      \"column\": \"DecisionTree\",\n      \"properties\": {\n        \"dtype\": \"number\",\n        \"std\": 1,\n        \"min\": 0,\n        \"max\": 6,\n        \"num_unique_values\": 7,\n        \"samples\": [\n          5,\n          3,\n          1\n        ],\n        \"semantic_type\": \"\",\n        \"description\": \"\"\n      }\n    },\n    {\n      \"column\": \"RandomForest\",\n      \"properties\": {\n        \"dtype\": \"number\",\n        \"std\": 1,\n        \"min\": 0,\n        \"max\": 6,\n        \"num_unique_values\": 7,\n        \"samples\": [\n          5,\n          3,\n          1\n        ],\n        \"semantic_type\": \"\",\n        \"description\": \"\"\n      }\n    },\n    {\n      \"column\": \"ExtraTrees\",\n      \"properties\": {\n        \"dtype\": \"number\",\n        \"std\": 1,\n        \"min\": 0,\n        \"max\": 6,\n        \"num_unique_values\": 7,\n        \"samples\": [\n          5,\n          3,\n          1\n        ],\n        \"semantic_type\": \"\",\n        \"description\": \"\"\n      }\n    },\n    {\n      \"column\": \"XgBoost\",\n      \"properties\": {\n        \"dtype\": \"number\",\n        \"std\": 1,\n        \"min\": 0,\n        \"max\": 6,\n        \"num_unique_values\": 7,\n        \"samples\": [\n          5,\n          3,\n          1\n        ],\n        \"semantic_type\": \"\",\n        \"description\": \"\"\n      }\n    }\n  ]\n}",
              "type": "dataframe",
              "variable_name": "base_predictions_train"
            },
            "text/html": [
              "\n",
              "  <div id=\"df-2cb074a5-37ac-46c0-8224-559c7caecb62\" class=\"colab-df-container\">\n",
              "    <div>\n",
              "<style scoped>\n",
              "    .dataframe tbody tr th:only-of-type {\n",
              "        vertical-align: middle;\n",
              "    }\n",
              "\n",
              "    .dataframe tbody tr th {\n",
              "        vertical-align: top;\n",
              "    }\n",
              "\n",
              "    .dataframe thead th {\n",
              "        text-align: right;\n",
              "    }\n",
              "</style>\n",
              "<table border=\"1\" class=\"dataframe\">\n",
              "  <thead>\n",
              "    <tr style=\"text-align: right;\">\n",
              "      <th></th>\n",
              "      <th>DecisionTree</th>\n",
              "      <th>RandomForest</th>\n",
              "      <th>ExtraTrees</th>\n",
              "      <th>XgBoost</th>\n",
              "    </tr>\n",
              "  </thead>\n",
              "  <tbody>\n",
              "    <tr>\n",
              "      <th>0</th>\n",
              "      <td>5</td>\n",
              "      <td>5</td>\n",
              "      <td>5</td>\n",
              "      <td>5</td>\n",
              "    </tr>\n",
              "    <tr>\n",
              "      <th>1</th>\n",
              "      <td>3</td>\n",
              "      <td>3</td>\n",
              "      <td>3</td>\n",
              "      <td>3</td>\n",
              "    </tr>\n",
              "    <tr>\n",
              "      <th>2</th>\n",
              "      <td>5</td>\n",
              "      <td>5</td>\n",
              "      <td>5</td>\n",
              "      <td>5</td>\n",
              "    </tr>\n",
              "    <tr>\n",
              "      <th>3</th>\n",
              "      <td>3</td>\n",
              "      <td>3</td>\n",
              "      <td>3</td>\n",
              "      <td>3</td>\n",
              "    </tr>\n",
              "    <tr>\n",
              "      <th>4</th>\n",
              "      <td>2</td>\n",
              "      <td>2</td>\n",
              "      <td>2</td>\n",
              "      <td>2</td>\n",
              "    </tr>\n",
              "  </tbody>\n",
              "</table>\n",
              "</div>\n",
              "    <div class=\"colab-df-buttons\">\n",
              "\n",
              "  <div class=\"colab-df-container\">\n",
              "    <button class=\"colab-df-convert\" onclick=\"convertToInteractive('df-2cb074a5-37ac-46c0-8224-559c7caecb62')\"\n",
              "            title=\"Convert this dataframe to an interactive table.\"\n",
              "            style=\"display:none;\">\n",
              "\n",
              "  <svg xmlns=\"http://www.w3.org/2000/svg\" height=\"24px\" viewBox=\"0 -960 960 960\">\n",
              "    <path d=\"M120-120v-720h720v720H120Zm60-500h600v-160H180v160Zm220 220h160v-160H400v160Zm0 220h160v-160H400v160ZM180-400h160v-160H180v160Zm440 0h160v-160H620v160ZM180-180h160v-160H180v160Zm440 0h160v-160H620v160Z\"/>\n",
              "  </svg>\n",
              "    </button>\n",
              "\n",
              "  <style>\n",
              "    .colab-df-container {\n",
              "      display:flex;\n",
              "      gap: 12px;\n",
              "    }\n",
              "\n",
              "    .colab-df-convert {\n",
              "      background-color: #E8F0FE;\n",
              "      border: none;\n",
              "      border-radius: 50%;\n",
              "      cursor: pointer;\n",
              "      display: none;\n",
              "      fill: #1967D2;\n",
              "      height: 32px;\n",
              "      padding: 0 0 0 0;\n",
              "      width: 32px;\n",
              "    }\n",
              "\n",
              "    .colab-df-convert:hover {\n",
              "      background-color: #E2EBFA;\n",
              "      box-shadow: 0px 1px 2px rgba(60, 64, 67, 0.3), 0px 1px 3px 1px rgba(60, 64, 67, 0.15);\n",
              "      fill: #174EA6;\n",
              "    }\n",
              "\n",
              "    .colab-df-buttons div {\n",
              "      margin-bottom: 4px;\n",
              "    }\n",
              "\n",
              "    [theme=dark] .colab-df-convert {\n",
              "      background-color: #3B4455;\n",
              "      fill: #D2E3FC;\n",
              "    }\n",
              "\n",
              "    [theme=dark] .colab-df-convert:hover {\n",
              "      background-color: #434B5C;\n",
              "      box-shadow: 0px 1px 3px 1px rgba(0, 0, 0, 0.15);\n",
              "      filter: drop-shadow(0px 1px 2px rgba(0, 0, 0, 0.3));\n",
              "      fill: #FFFFFF;\n",
              "    }\n",
              "  </style>\n",
              "\n",
              "    <script>\n",
              "      const buttonEl =\n",
              "        document.querySelector('#df-2cb074a5-37ac-46c0-8224-559c7caecb62 button.colab-df-convert');\n",
              "      buttonEl.style.display =\n",
              "        google.colab.kernel.accessAllowed ? 'block' : 'none';\n",
              "\n",
              "      async function convertToInteractive(key) {\n",
              "        const element = document.querySelector('#df-2cb074a5-37ac-46c0-8224-559c7caecb62');\n",
              "        const dataTable =\n",
              "          await google.colab.kernel.invokeFunction('convertToInteractive',\n",
              "                                                    [key], {});\n",
              "        if (!dataTable) return;\n",
              "\n",
              "        const docLinkHtml = 'Like what you see? Visit the ' +\n",
              "          '<a target=\"_blank\" href=https://colab.research.google.com/notebooks/data_table.ipynb>data table notebook</a>'\n",
              "          + ' to learn more about interactive tables.';\n",
              "        element.innerHTML = '';\n",
              "        dataTable['output_type'] = 'display_data';\n",
              "        await google.colab.output.renderOutput(dataTable, element);\n",
              "        const docLink = document.createElement('div');\n",
              "        docLink.innerHTML = docLinkHtml;\n",
              "        element.appendChild(docLink);\n",
              "      }\n",
              "    </script>\n",
              "  </div>\n",
              "\n",
              "\n",
              "<div id=\"df-35f9d78e-7fd8-4209-8df9-ddb8279f30a3\">\n",
              "  <button class=\"colab-df-quickchart\" onclick=\"quickchart('df-35f9d78e-7fd8-4209-8df9-ddb8279f30a3')\"\n",
              "            title=\"Suggest charts\"\n",
              "            style=\"display:none;\">\n",
              "\n",
              "<svg xmlns=\"http://www.w3.org/2000/svg\" height=\"24px\"viewBox=\"0 0 24 24\"\n",
              "     width=\"24px\">\n",
              "    <g>\n",
              "        <path d=\"M19 3H5c-1.1 0-2 .9-2 2v14c0 1.1.9 2 2 2h14c1.1 0 2-.9 2-2V5c0-1.1-.9-2-2-2zM9 17H7v-7h2v7zm4 0h-2V7h2v10zm4 0h-2v-4h2v4z\"/>\n",
              "    </g>\n",
              "</svg>\n",
              "  </button>\n",
              "\n",
              "<style>\n",
              "  .colab-df-quickchart {\n",
              "      --bg-color: #E8F0FE;\n",
              "      --fill-color: #1967D2;\n",
              "      --hover-bg-color: #E2EBFA;\n",
              "      --hover-fill-color: #174EA6;\n",
              "      --disabled-fill-color: #AAA;\n",
              "      --disabled-bg-color: #DDD;\n",
              "  }\n",
              "\n",
              "  [theme=dark] .colab-df-quickchart {\n",
              "      --bg-color: #3B4455;\n",
              "      --fill-color: #D2E3FC;\n",
              "      --hover-bg-color: #434B5C;\n",
              "      --hover-fill-color: #FFFFFF;\n",
              "      --disabled-bg-color: #3B4455;\n",
              "      --disabled-fill-color: #666;\n",
              "  }\n",
              "\n",
              "  .colab-df-quickchart {\n",
              "    background-color: var(--bg-color);\n",
              "    border: none;\n",
              "    border-radius: 50%;\n",
              "    cursor: pointer;\n",
              "    display: none;\n",
              "    fill: var(--fill-color);\n",
              "    height: 32px;\n",
              "    padding: 0;\n",
              "    width: 32px;\n",
              "  }\n",
              "\n",
              "  .colab-df-quickchart:hover {\n",
              "    background-color: var(--hover-bg-color);\n",
              "    box-shadow: 0 1px 2px rgba(60, 64, 67, 0.3), 0 1px 3px 1px rgba(60, 64, 67, 0.15);\n",
              "    fill: var(--button-hover-fill-color);\n",
              "  }\n",
              "\n",
              "  .colab-df-quickchart-complete:disabled,\n",
              "  .colab-df-quickchart-complete:disabled:hover {\n",
              "    background-color: var(--disabled-bg-color);\n",
              "    fill: var(--disabled-fill-color);\n",
              "    box-shadow: none;\n",
              "  }\n",
              "\n",
              "  .colab-df-spinner {\n",
              "    border: 2px solid var(--fill-color);\n",
              "    border-color: transparent;\n",
              "    border-bottom-color: var(--fill-color);\n",
              "    animation:\n",
              "      spin 1s steps(1) infinite;\n",
              "  }\n",
              "\n",
              "  @keyframes spin {\n",
              "    0% {\n",
              "      border-color: transparent;\n",
              "      border-bottom-color: var(--fill-color);\n",
              "      border-left-color: var(--fill-color);\n",
              "    }\n",
              "    20% {\n",
              "      border-color: transparent;\n",
              "      border-left-color: var(--fill-color);\n",
              "      border-top-color: var(--fill-color);\n",
              "    }\n",
              "    30% {\n",
              "      border-color: transparent;\n",
              "      border-left-color: var(--fill-color);\n",
              "      border-top-color: var(--fill-color);\n",
              "      border-right-color: var(--fill-color);\n",
              "    }\n",
              "    40% {\n",
              "      border-color: transparent;\n",
              "      border-right-color: var(--fill-color);\n",
              "      border-top-color: var(--fill-color);\n",
              "    }\n",
              "    60% {\n",
              "      border-color: transparent;\n",
              "      border-right-color: var(--fill-color);\n",
              "    }\n",
              "    80% {\n",
              "      border-color: transparent;\n",
              "      border-right-color: var(--fill-color);\n",
              "      border-bottom-color: var(--fill-color);\n",
              "    }\n",
              "    90% {\n",
              "      border-color: transparent;\n",
              "      border-bottom-color: var(--fill-color);\n",
              "    }\n",
              "  }\n",
              "</style>\n",
              "\n",
              "  <script>\n",
              "    async function quickchart(key) {\n",
              "      const quickchartButtonEl =\n",
              "        document.querySelector('#' + key + ' button');\n",
              "      quickchartButtonEl.disabled = true;  // To prevent multiple clicks.\n",
              "      quickchartButtonEl.classList.add('colab-df-spinner');\n",
              "      try {\n",
              "        const charts = await google.colab.kernel.invokeFunction(\n",
              "            'suggestCharts', [key], {});\n",
              "      } catch (error) {\n",
              "        console.error('Error during call to suggestCharts:', error);\n",
              "      }\n",
              "      quickchartButtonEl.classList.remove('colab-df-spinner');\n",
              "      quickchartButtonEl.classList.add('colab-df-quickchart-complete');\n",
              "    }\n",
              "    (() => {\n",
              "      let quickchartButtonEl =\n",
              "        document.querySelector('#df-35f9d78e-7fd8-4209-8df9-ddb8279f30a3 button');\n",
              "      quickchartButtonEl.style.display =\n",
              "        google.colab.kernel.accessAllowed ? 'block' : 'none';\n",
              "    })();\n",
              "  </script>\n",
              "</div>\n",
              "\n",
              "    </div>\n",
              "  </div>\n"
            ],
            "text/plain": [
              "   DecisionTree  RandomForest  ExtraTrees  XgBoost\n",
              "0             5             5           5        5\n",
              "1             3             3           3        3\n",
              "2             5             5           5        5\n",
              "3             3             3           3        3\n",
              "4             2             2           2        2"
            ]
          },
          "execution_count": 259,
          "metadata": {},
          "output_type": "execute_result"
        }
      ],
      "source": [
        "base_predictions_train = pd.DataFrame( {\n",
        "    'DecisionTree': dt_train.ravel(),\n",
        "        'RandomForest': rf_train.ravel(),\n",
        "     'ExtraTrees': et_train.ravel(),\n",
        "     'XgBoost': xg_train.ravel(),\n",
        "    })\n",
        "base_predictions_train.head(5)"
      ]
    },
    {
      "cell_type": "code",
      "execution_count": 260,
      "metadata": {
        "id": "gwNe7yLokdQ-"
      },
      "outputs": [],
      "source": [
        "dt_train=dt_train.reshape(-1, 1)\n",
        "et_train=et_train.reshape(-1, 1)\n",
        "rf_train=rf_train.reshape(-1, 1)\n",
        "xg_train=xg_train.reshape(-1, 1)\n",
        "dt_test=dt_test.reshape(-1, 1)\n",
        "et_test=et_test.reshape(-1, 1)\n",
        "rf_test=rf_test.reshape(-1, 1)\n",
        "xg_test=xg_test.reshape(-1, 1)"
      ]
    },
    {
      "cell_type": "code",
      "execution_count": 261,
      "metadata": {
        "id": "Dl2gcXNpkfhF"
      },
      "outputs": [],
      "source": [
        "x_train = np.concatenate(( dt_train, et_train, rf_train, xg_train), axis=1)\n",
        "x_test = np.concatenate(( dt_test, et_test, rf_test, xg_test), axis=1)"
      ]
    },
    {
      "cell_type": "code",
      "execution_count": 262,
      "metadata": {
        "colab": {
          "base_uri": "https://localhost:8080/",
          "height": 777
        },
        "id": "q5HwoNGSkg6a",
        "outputId": "6f681d68-11b0-45e2-9a9d-be0aa1073de1"
      },
      "outputs": [
        {
          "name": "stdout",
          "output_type": "stream",
          "text": [
            "Accuracy of Stacking: 0.9935586340774729\n",
            "Precision of Stacking: 0.9939812936975205\n",
            "Recall of Stacking: 0.9935586340774729\n",
            "F1-score of Stacking: 0.9937069636410812\n",
            "              precision    recall  f1-score   support\n",
            "\n",
            "           0       1.00      0.99      0.99      4547\n",
            "           1       1.00      0.99      0.99       393\n",
            "           2       0.96      1.00      0.98       554\n",
            "           3       1.00      1.00      1.00      3807\n",
            "           4       0.38      0.71      0.50         7\n",
            "           5       1.00      1.00      1.00      1589\n",
            "           6       0.97      0.99      0.98       436\n",
            "\n",
            "    accuracy                           0.99     11333\n",
            "   macro avg       0.90      0.95      0.92     11333\n",
            "weighted avg       0.99      0.99      0.99     11333\n",
            "\n"
          ]
        },
        {
          "data": {
            "image/png": "[encoded data removed]",
            "text/plain": [
              "<Figure size 500x500 with 2 Axes>"
            ]
          },
          "metadata": {},
          "output_type": "display_data"
        }
      ],
      "source": [
        "stk = xgb.XGBClassifier().fit(x_train, y_train)\n",
        "y_predict=stk.predict(x_test)\n",
        "y_true=y_test\n",
        "stk_score=accuracy_score(y_true,y_predict)\n",
        "print('Accuracy of Stacking: '+ str(stk_score))\n",
        "precision,recall,fscore,none= precision_recall_fscore_support(y_true, y_predict, average='weighted')\n",
        "print('Precision of Stacking: '+(str(precision)))\n",
        "print('Recall of Stacking: '+(str(recall)))\n",
        "print('F1-score of Stacking: '+(str(fscore)))\n",
        "print(classification_report(y_true,y_predict))\n",
        "cm=confusion_matrix(y_true,y_predict)\n",
        "f,ax=plt.subplots(figsize=(5,5))\n",
        "sns.heatmap(cm,annot=True,linewidth=0.5,linecolor=\"red\",fmt=\".0f\",ax=ax)\n",
        "plt.xlabel(\"y_pred\")\n",
        "plt.ylabel(\"y_true\")\n",
        "plt.show()"
      ]
    },
    {
      "cell_type": "code",
      "execution_count": 263,
      "metadata": {
        "id": "T1VmlrtEki5o"
      },
      "outputs": [],
      "source": [
        "import pickle\n",
        "\n",
        "# Assuming your model is named 'model'\n",
        "# and you have trained it already\n",
        "\n",
        "# Save the model to a .pkl file\n",
        "with open('xg_model.pkl', 'wb') as f:\n",
        "    pickle.dump(xg, f)"
      ]
    },
    {
      "cell_type": "code",
      "execution_count": 264,
      "metadata": {
        "id": "ojolyopB8DVv"
      },
      "outputs": [],
      "source": [
        "import pickle\n",
        "\n",
        "# Assuming your model is named 'model'\n",
        "# and you have trained it already\n",
        "\n",
        "# Save the model to a .pkl file\n",
        "with open('et_model.pkl', 'wb') as f:\n",
        "    pickle.dump(et, f)\n"
      ]
    },
    {
      "cell_type": "code",
      "execution_count": 265,
      "metadata": {
        "id": "kKPN-aJ68IOL"
      },
      "outputs": [],
      "source": [
        "import pickle\n",
        "\n",
        "# Assuming your model is named 'model'\n",
        "# and you have trained it already\n",
        "\n",
        "# Save the model to a .pkl file\n",
        "with open('rf_model.pkl', 'wb') as f:\n",
        "    pickle.dump(rf, f)\n"
      ]
    },
    {
      "cell_type": "code",
      "execution_count": 266,
      "metadata": {
        "id": "V4SBk4ci8RR2"
      },
      "outputs": [],
      "source": [
        "import pickle\n",
        "\n",
        "# Assuming your model is named 'model'\n",
        "# and you have trained it already\n",
        "\n",
        "# Save the model to a .pkl file\n",
        "with open('dt_model.pkl', 'wb') as f:\n",
        "    pickle.dump(dt, f)\n"
      ]
    },
    {
      "cell_type": "code",
      "execution_count": 267,
      "metadata": {
        "id": "0fqZVauH8EY7"
      },
      "outputs": [],
      "source": [
        "with open('xg_model.pkl', 'rb') as f:\n",
        "    xg_model = pickle.load(f)\n",
        "\n",
        "\n",
        "with open('et_model.pkl', 'rb') as f:\n",
        "    et_model = pickle.load(f)\n",
        "\n",
        "with open('rf_model.pkl', 'rb') as f:\n",
        "    rf_model = pickle.load(f)\n",
        "\n",
        "with open('dt_model.pkl', 'rb') as f:\n",
        "    dt_model = pickle.load(f)"
      ]
    },
    {
      "cell_type": "code",
      "execution_count": 268,
      "metadata": {
        "id": "Y83Ps4LL2GJq"
      },
      "outputs": [],
      "source": [
        "num_features = 15\n",
        "sample_input = [745402,6,7,991,1424,517,0,165.1666666667,238.80487153040002,1256,0,203.4285714286,1,2,3]\n",
        "# Reshape the sample input to match the model's expectations\n",
        "# Convert the sample input to a numpy array\n",
        "sample_input = np.array(sample_input)\n",
        "# Reshape the sample input to match the model's expectations\n",
        "sample_input = sample_input.reshape(1, -1)"
      ]
    },
    {
      "cell_type": "code",
      "execution_count": 269,
      "metadata": {
        "id": "iaJZVHym2LPQ"
      },
      "outputs": [],
      "source": [
        "xg_prediction = xg_model.predict(sample_input)\n",
        "et_prediction = et_model.predict(sample_input)\n",
        "rf_prediction = rf_model.predict(sample_input)\n",
        "dt_prediction = dt_model.predict(sample_input)"
      ]
    },
    {
      "cell_type": "code",
      "execution_count": 270,
      "metadata": {
        "colab": {
          "base_uri": "https://localhost:8080/"
        },
        "id": "RjPPVKvr2Yx1",
        "outputId": "25cbcd46-31bf-49cd-ebf7-b15769a9bd5d"
      },
      "outputs": [
        {
          "name": "stdout",
          "output_type": "stream",
          "text": [
            "XGBoost Prediction: [5]\n"
          ]
        }
      ],
      "source": [
        "print(\"XGBoost Prediction:\", xg_prediction)"
      ]
    },
    {
      "cell_type": "code",
      "execution_count": 271,
      "metadata": {
        "colab": {
          "base_uri": "https://localhost:8080/"
        },
        "id": "gn9_af2w2cG3",
        "outputId": "4ff332b4-9afb-4671-bbf5-0b773971c22a"
      },
      "outputs": [
        {
          "name": "stdout",
          "output_type": "stream",
          "text": [
            "Extra Trees Prediction: [0]\n",
            "Random Forest Prediction: [0]\n",
            "Decision Tree Prediction: [0]\n"
          ]
        }
      ],
      "source": [
        "print(\"Extra Trees Prediction:\", et_prediction)\n",
        "print(\"Random Forest Prediction:\", rf_prediction)\n",
        "print(\"Decision Tree Prediction:\", dt_prediction)"
      ]
    },
    {
      "cell_type": "code",
      "execution_count": 271,
      "metadata": {
        "id": "-LzahnG52nGB"
      },
      "outputs": [],
      "source": []
    }
  ],
  "metadata": {
    "colab": {
      "provenance": []
    },
    "kernelspec": {
      "display_name": "Python 3",
      "name": "python3"
    },
    "language_info": {
      "codemirror_mode": {
        "name": "ipython",
        "version": 3
      },
      "file_extension": ".py",
      "mimetype": "text/x-python",
      "name": "python",
      "nbconvert_exporter": "python",
      "pygments_lexer": "ipython3",
      "version": "3.10.1"
    }
  },
  "nbformat": 4,
  "nbformat_minor": 0
}
